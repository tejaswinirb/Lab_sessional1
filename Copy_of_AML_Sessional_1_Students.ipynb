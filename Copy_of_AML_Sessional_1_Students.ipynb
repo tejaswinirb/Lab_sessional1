{
  "cells": [
    {
      "cell_type": "markdown",
      "id": "19e9ad28",
      "metadata": {
        "id": "19e9ad28"
      },
      "source": [
        "# AML Lab Sessional 1 Jupyter Notebook"
      ]
    },
    {
      "cell_type": "markdown",
      "id": "7bd62e2c",
      "metadata": {
        "id": "7bd62e2c"
      },
      "source": [
        "### 1. VS Code is a MUST\n",
        "1. You should code in VS Code. Google Colab not allowed\n",
        "\n",
        "### 2. Pre-requisites for lab in VS Code\n",
        "1. Install PDF export support https://saturncloud.io/blog/how-to-export-jupyter-notebook-by-vscode-in-pdf-format/\n",
        "\n",
        "### 3. At the end, export your notebook as html and ipynb\n",
        "1. Open VS Code command palette Shift + Ctrl + P\n",
        "2. Type \"Export Jupyter Notebook\" in the search bar and select \"Export Jupyter Notebook to html\"\n",
        "3. Upload your html AND ipynb here: https://tinyurl.com/y9ptbej2 (In the prompt, put your name correctly else your submission will be rejected)"
      ]
    },
    {
      "cell_type": "markdown",
      "id": "53215768",
      "metadata": {
        "id": "53215768"
      },
      "source": [
        "### 4. Lab Sessional Summary\n",
        "1. A code template is given to you in lab sesional in this jupyter notebook\n",
        "2. The template will follow a linear sequence of TODOs appropriately labelled with question marks\n",
        "3. You will have to fill the TODO question marks to compile those notebook cells and proceed to next cells\n",
        "4. You can think of the linear sequence of TODOs as a guided thought process.\n",
        "5. Sessional is open book. Google, github, browse product documentation ChatGPT - Do anything you want, except copying others. No discussing among yourselves (Sending questions to your seniors and seeking answers is prohibited). If you are caught carrying out these illegal activities, you will be reported for immediate action.\n",
        "6. You CANNOT replace the TODO code template with some other code copied from stack overflow, ChatGPT etc. All your browsing and search should give you insights into finally how you can fit that into the framework I provide for the thought process of solving the problem. You will have to mandatorily fill the question marks and proceed with the lab problem."
      ]
    },
    {
      "cell_type": "code",
      "execution_count": null,
      "id": "e0921e09",
      "metadata": {
        "id": "e0921e09"
      },
      "outputs": [],
      "source": [
        "import numpy as np\n",
        "import pandas as pd\n",
        "import sklearn as sk\n",
        "\n",
        "import matplotlib.pyplot as plt\n",
        "import seaborn as sns\n",
        "%matplotlib inline\n",
        "\n",
        "import warnings\n",
        "warnings.filterwarnings(\"ignore\")"
      ]
    },
    {
      "cell_type": "code",
      "execution_count": null,
      "id": "082003a1",
      "metadata": {
        "id": "082003a1",
        "outputId": "1fa58875-744f-480a-c200-8cff00650f51",
        "colab": {
          "base_uri": "https://localhost:8080/",
          "height": 36
        }
      },
      "outputs": [
        {
          "output_type": "execute_result",
          "data": {
            "text/plain": [
              "'1.2.2'"
            ],
            "application/vnd.google.colaboratory.intrinsic+json": {
              "type": "string"
            }
          },
          "metadata": {},
          "execution_count": 3
        }
      ],
      "source": [
        "sk.__version__"
      ]
    },
    {
      "cell_type": "markdown",
      "id": "adeb5407",
      "metadata": {
        "id": "adeb5407"
      },
      "source": [
        "### Problem Definition\n",
        "\n",
        "You are provided with diabetes dataset. Your task is:\n",
        "\n",
        "1. Part 1: To perform EDA and prediction without pipeline\n",
        "2. Part 2: To move EDA and kNN prediction into a pipeline\n",
        "3. Part 3: To combine the pipeline and gridsearch to get best K and weights hyperparameters\n",
        "4. Part 4: Save the model as json file, load & use it to do prediction. This part is optional and will be used to accumulate bonus points as a buffer for the semester lab exam if there is any shortfall"
      ]
    },
    {
      "cell_type": "markdown",
      "id": "875fa98f",
      "metadata": {
        "id": "875fa98f"
      },
      "source": [
        "# Part 1 - Perform EDA and prediction without pipeline"
      ]
    },
    {
      "cell_type": "code",
      "execution_count": null,
      "id": "6550eae7",
      "metadata": {
        "id": "6550eae7",
        "outputId": "7652678c-1d33-4e8e-aae2-c4bef8f09077",
        "colab": {
          "base_uri": "https://localhost:8080/",
          "height": 206
        }
      },
      "outputs": [
        {
          "output_type": "execute_result",
          "data": {
            "text/plain": [
              "   Pregnancies  Glucose  BloodPressure  SkinThickness  Insulin   BMI  \\\n",
              "0            2      138             62             35        0  33.6   \n",
              "1            0       84             82             31      125  38.2   \n",
              "2            0      145              0              0        0  44.2   \n",
              "3            0      135             68             42      250  42.3   \n",
              "4            1      139             62             41      480  40.7   \n",
              "\n",
              "   DiabetesPedigreeFunction  Age  Outcome  \n",
              "0                     0.127   47        1  \n",
              "1                     0.233   23        0  \n",
              "2                     0.630   31        1  \n",
              "3                     0.365   24        1  \n",
              "4                     0.536   21        0  "
            ],
            "text/html": [
              "\n",
              "  <div id=\"df-a492fde8-f559-4622-9b5a-6027d09498db\" class=\"colab-df-container\">\n",
              "    <div>\n",
              "<style scoped>\n",
              "    .dataframe tbody tr th:only-of-type {\n",
              "        vertical-align: middle;\n",
              "    }\n",
              "\n",
              "    .dataframe tbody tr th {\n",
              "        vertical-align: top;\n",
              "    }\n",
              "\n",
              "    .dataframe thead th {\n",
              "        text-align: right;\n",
              "    }\n",
              "</style>\n",
              "<table border=\"1\" class=\"dataframe\">\n",
              "  <thead>\n",
              "    <tr style=\"text-align: right;\">\n",
              "      <th></th>\n",
              "      <th>Pregnancies</th>\n",
              "      <th>Glucose</th>\n",
              "      <th>BloodPressure</th>\n",
              "      <th>SkinThickness</th>\n",
              "      <th>Insulin</th>\n",
              "      <th>BMI</th>\n",
              "      <th>DiabetesPedigreeFunction</th>\n",
              "      <th>Age</th>\n",
              "      <th>Outcome</th>\n",
              "    </tr>\n",
              "  </thead>\n",
              "  <tbody>\n",
              "    <tr>\n",
              "      <th>0</th>\n",
              "      <td>2</td>\n",
              "      <td>138</td>\n",
              "      <td>62</td>\n",
              "      <td>35</td>\n",
              "      <td>0</td>\n",
              "      <td>33.6</td>\n",
              "      <td>0.127</td>\n",
              "      <td>47</td>\n",
              "      <td>1</td>\n",
              "    </tr>\n",
              "    <tr>\n",
              "      <th>1</th>\n",
              "      <td>0</td>\n",
              "      <td>84</td>\n",
              "      <td>82</td>\n",
              "      <td>31</td>\n",
              "      <td>125</td>\n",
              "      <td>38.2</td>\n",
              "      <td>0.233</td>\n",
              "      <td>23</td>\n",
              "      <td>0</td>\n",
              "    </tr>\n",
              "    <tr>\n",
              "      <th>2</th>\n",
              "      <td>0</td>\n",
              "      <td>145</td>\n",
              "      <td>0</td>\n",
              "      <td>0</td>\n",
              "      <td>0</td>\n",
              "      <td>44.2</td>\n",
              "      <td>0.630</td>\n",
              "      <td>31</td>\n",
              "      <td>1</td>\n",
              "    </tr>\n",
              "    <tr>\n",
              "      <th>3</th>\n",
              "      <td>0</td>\n",
              "      <td>135</td>\n",
              "      <td>68</td>\n",
              "      <td>42</td>\n",
              "      <td>250</td>\n",
              "      <td>42.3</td>\n",
              "      <td>0.365</td>\n",
              "      <td>24</td>\n",
              "      <td>1</td>\n",
              "    </tr>\n",
              "    <tr>\n",
              "      <th>4</th>\n",
              "      <td>1</td>\n",
              "      <td>139</td>\n",
              "      <td>62</td>\n",
              "      <td>41</td>\n",
              "      <td>480</td>\n",
              "      <td>40.7</td>\n",
              "      <td>0.536</td>\n",
              "      <td>21</td>\n",
              "      <td>0</td>\n",
              "    </tr>\n",
              "  </tbody>\n",
              "</table>\n",
              "</div>\n",
              "    <div class=\"colab-df-buttons\">\n",
              "\n",
              "  <div class=\"colab-df-container\">\n",
              "    <button class=\"colab-df-convert\" onclick=\"convertToInteractive('df-a492fde8-f559-4622-9b5a-6027d09498db')\"\n",
              "            title=\"Convert this dataframe to an interactive table.\"\n",
              "            style=\"display:none;\">\n",
              "\n",
              "  <svg xmlns=\"http://www.w3.org/2000/svg\" height=\"24px\" viewBox=\"0 -960 960 960\">\n",
              "    <path d=\"M120-120v-720h720v720H120Zm60-500h600v-160H180v160Zm220 220h160v-160H400v160Zm0 220h160v-160H400v160ZM180-400h160v-160H180v160Zm440 0h160v-160H620v160ZM180-180h160v-160H180v160Zm440 0h160v-160H620v160Z\"/>\n",
              "  </svg>\n",
              "    </button>\n",
              "\n",
              "  <style>\n",
              "    .colab-df-container {\n",
              "      display:flex;\n",
              "      gap: 12px;\n",
              "    }\n",
              "\n",
              "    .colab-df-convert {\n",
              "      background-color: #E8F0FE;\n",
              "      border: none;\n",
              "      border-radius: 50%;\n",
              "      cursor: pointer;\n",
              "      display: none;\n",
              "      fill: #1967D2;\n",
              "      height: 32px;\n",
              "      padding: 0 0 0 0;\n",
              "      width: 32px;\n",
              "    }\n",
              "\n",
              "    .colab-df-convert:hover {\n",
              "      background-color: #E2EBFA;\n",
              "      box-shadow: 0px 1px 2px rgba(60, 64, 67, 0.3), 0px 1px 3px 1px rgba(60, 64, 67, 0.15);\n",
              "      fill: #174EA6;\n",
              "    }\n",
              "\n",
              "    .colab-df-buttons div {\n",
              "      margin-bottom: 4px;\n",
              "    }\n",
              "\n",
              "    [theme=dark] .colab-df-convert {\n",
              "      background-color: #3B4455;\n",
              "      fill: #D2E3FC;\n",
              "    }\n",
              "\n",
              "    [theme=dark] .colab-df-convert:hover {\n",
              "      background-color: #434B5C;\n",
              "      box-shadow: 0px 1px 3px 1px rgba(0, 0, 0, 0.15);\n",
              "      filter: drop-shadow(0px 1px 2px rgba(0, 0, 0, 0.3));\n",
              "      fill: #FFFFFF;\n",
              "    }\n",
              "  </style>\n",
              "\n",
              "    <script>\n",
              "      const buttonEl =\n",
              "        document.querySelector('#df-a492fde8-f559-4622-9b5a-6027d09498db button.colab-df-convert');\n",
              "      buttonEl.style.display =\n",
              "        google.colab.kernel.accessAllowed ? 'block' : 'none';\n",
              "\n",
              "      async function convertToInteractive(key) {\n",
              "        const element = document.querySelector('#df-a492fde8-f559-4622-9b5a-6027d09498db');\n",
              "        const dataTable =\n",
              "          await google.colab.kernel.invokeFunction('convertToInteractive',\n",
              "                                                    [key], {});\n",
              "        if (!dataTable) return;\n",
              "\n",
              "        const docLinkHtml = 'Like what you see? Visit the ' +\n",
              "          '<a target=\"_blank\" href=https://colab.research.google.com/notebooks/data_table.ipynb>data table notebook</a>'\n",
              "          + ' to learn more about interactive tables.';\n",
              "        element.innerHTML = '';\n",
              "        dataTable['output_type'] = 'display_data';\n",
              "        await google.colab.output.renderOutput(dataTable, element);\n",
              "        const docLink = document.createElement('div');\n",
              "        docLink.innerHTML = docLinkHtml;\n",
              "        element.appendChild(docLink);\n",
              "      }\n",
              "    </script>\n",
              "  </div>\n",
              "\n",
              "\n",
              "<div id=\"df-a461aef7-5d91-4785-90f1-54f43642f46f\">\n",
              "  <button class=\"colab-df-quickchart\" onclick=\"quickchart('df-a461aef7-5d91-4785-90f1-54f43642f46f')\"\n",
              "            title=\"Suggest charts.\"\n",
              "            style=\"display:none;\">\n",
              "\n",
              "<svg xmlns=\"http://www.w3.org/2000/svg\" height=\"24px\"viewBox=\"0 0 24 24\"\n",
              "     width=\"24px\">\n",
              "    <g>\n",
              "        <path d=\"M19 3H5c-1.1 0-2 .9-2 2v14c0 1.1.9 2 2 2h14c1.1 0 2-.9 2-2V5c0-1.1-.9-2-2-2zM9 17H7v-7h2v7zm4 0h-2V7h2v10zm4 0h-2v-4h2v4z\"/>\n",
              "    </g>\n",
              "</svg>\n",
              "  </button>\n",
              "\n",
              "<style>\n",
              "  .colab-df-quickchart {\n",
              "      --bg-color: #E8F0FE;\n",
              "      --fill-color: #1967D2;\n",
              "      --hover-bg-color: #E2EBFA;\n",
              "      --hover-fill-color: #174EA6;\n",
              "      --disabled-fill-color: #AAA;\n",
              "      --disabled-bg-color: #DDD;\n",
              "  }\n",
              "\n",
              "  [theme=dark] .colab-df-quickchart {\n",
              "      --bg-color: #3B4455;\n",
              "      --fill-color: #D2E3FC;\n",
              "      --hover-bg-color: #434B5C;\n",
              "      --hover-fill-color: #FFFFFF;\n",
              "      --disabled-bg-color: #3B4455;\n",
              "      --disabled-fill-color: #666;\n",
              "  }\n",
              "\n",
              "  .colab-df-quickchart {\n",
              "    background-color: var(--bg-color);\n",
              "    border: none;\n",
              "    border-radius: 50%;\n",
              "    cursor: pointer;\n",
              "    display: none;\n",
              "    fill: var(--fill-color);\n",
              "    height: 32px;\n",
              "    padding: 0;\n",
              "    width: 32px;\n",
              "  }\n",
              "\n",
              "  .colab-df-quickchart:hover {\n",
              "    background-color: var(--hover-bg-color);\n",
              "    box-shadow: 0 1px 2px rgba(60, 64, 67, 0.3), 0 1px 3px 1px rgba(60, 64, 67, 0.15);\n",
              "    fill: var(--button-hover-fill-color);\n",
              "  }\n",
              "\n",
              "  .colab-df-quickchart-complete:disabled,\n",
              "  .colab-df-quickchart-complete:disabled:hover {\n",
              "    background-color: var(--disabled-bg-color);\n",
              "    fill: var(--disabled-fill-color);\n",
              "    box-shadow: none;\n",
              "  }\n",
              "\n",
              "  .colab-df-spinner {\n",
              "    border: 2px solid var(--fill-color);\n",
              "    border-color: transparent;\n",
              "    border-bottom-color: var(--fill-color);\n",
              "    animation:\n",
              "      spin 1s steps(1) infinite;\n",
              "  }\n",
              "\n",
              "  @keyframes spin {\n",
              "    0% {\n",
              "      border-color: transparent;\n",
              "      border-bottom-color: var(--fill-color);\n",
              "      border-left-color: var(--fill-color);\n",
              "    }\n",
              "    20% {\n",
              "      border-color: transparent;\n",
              "      border-left-color: var(--fill-color);\n",
              "      border-top-color: var(--fill-color);\n",
              "    }\n",
              "    30% {\n",
              "      border-color: transparent;\n",
              "      border-left-color: var(--fill-color);\n",
              "      border-top-color: var(--fill-color);\n",
              "      border-right-color: var(--fill-color);\n",
              "    }\n",
              "    40% {\n",
              "      border-color: transparent;\n",
              "      border-right-color: var(--fill-color);\n",
              "      border-top-color: var(--fill-color);\n",
              "    }\n",
              "    60% {\n",
              "      border-color: transparent;\n",
              "      border-right-color: var(--fill-color);\n",
              "    }\n",
              "    80% {\n",
              "      border-color: transparent;\n",
              "      border-right-color: var(--fill-color);\n",
              "      border-bottom-color: var(--fill-color);\n",
              "    }\n",
              "    90% {\n",
              "      border-color: transparent;\n",
              "      border-bottom-color: var(--fill-color);\n",
              "    }\n",
              "  }\n",
              "</style>\n",
              "\n",
              "  <script>\n",
              "    async function quickchart(key) {\n",
              "      const quickchartButtonEl =\n",
              "        document.querySelector('#' + key + ' button');\n",
              "      quickchartButtonEl.disabled = true;  // To prevent multiple clicks.\n",
              "      quickchartButtonEl.classList.add('colab-df-spinner');\n",
              "      try {\n",
              "        const charts = await google.colab.kernel.invokeFunction(\n",
              "            'suggestCharts', [key], {});\n",
              "      } catch (error) {\n",
              "        console.error('Error during call to suggestCharts:', error);\n",
              "      }\n",
              "      quickchartButtonEl.classList.remove('colab-df-spinner');\n",
              "      quickchartButtonEl.classList.add('colab-df-quickchart-complete');\n",
              "    }\n",
              "    (() => {\n",
              "      let quickchartButtonEl =\n",
              "        document.querySelector('#df-a461aef7-5d91-4785-90f1-54f43642f46f button');\n",
              "      quickchartButtonEl.style.display =\n",
              "        google.colab.kernel.accessAllowed ? 'block' : 'none';\n",
              "    })();\n",
              "  </script>\n",
              "</div>\n",
              "    </div>\n",
              "  </div>\n"
            ]
          },
          "metadata": {},
          "execution_count": 4
        }
      ],
      "source": [
        "# TODO: 1 Load the csv file\n",
        "df = pd.read_csv('d2.csv')\n",
        "df.head()"
      ]
    },
    {
      "cell_type": "code",
      "execution_count": null,
      "id": "b5283e45",
      "metadata": {
        "id": "b5283e45",
        "outputId": "892ae7be-b444-4acc-f93c-e0c8c3767b69",
        "colab": {
          "base_uri": "https://localhost:8080/"
        }
      },
      "outputs": [
        {
          "output_type": "stream",
          "name": "stdout",
          "text": [
            "<class 'pandas.core.frame.DataFrame'>\n",
            "RangeIndex: 2000 entries, 0 to 1999\n",
            "Data columns (total 9 columns):\n",
            " #   Column                    Non-Null Count  Dtype  \n",
            "---  ------                    --------------  -----  \n",
            " 0   Pregnancies               2000 non-null   int64  \n",
            " 1   Glucose                   2000 non-null   int64  \n",
            " 2   BloodPressure             2000 non-null   int64  \n",
            " 3   SkinThickness             2000 non-null   int64  \n",
            " 4   Insulin                   2000 non-null   int64  \n",
            " 5   BMI                       2000 non-null   float64\n",
            " 6   DiabetesPedigreeFunction  2000 non-null   float64\n",
            " 7   Age                       2000 non-null   int64  \n",
            " 8   Outcome                   2000 non-null   int64  \n",
            "dtypes: float64(2), int64(7)\n",
            "memory usage: 140.8 KB\n"
          ]
        }
      ],
      "source": [
        "# TODO: 2 Display information about dataframe\n",
        "df.info(verbose=True, show_counts=True)"
      ]
    },
    {
      "cell_type": "code",
      "execution_count": null,
      "id": "96d8267f",
      "metadata": {
        "id": "96d8267f",
        "outputId": "7b3f2bb7-83a6-47c2-b4bc-3acefae781a6",
        "colab": {
          "base_uri": "https://localhost:8080/"
        }
      },
      "outputs": [
        {
          "output_type": "execute_result",
          "data": {
            "text/plain": [
              "Pregnancies                 0\n",
              "Glucose                     0\n",
              "BloodPressure               0\n",
              "SkinThickness               0\n",
              "Insulin                     0\n",
              "BMI                         0\n",
              "DiabetesPedigreeFunction    0\n",
              "Age                         0\n",
              "Outcome                     0\n",
              "dtype: int64"
            ]
          },
          "metadata": {},
          "execution_count": 6
        }
      ],
      "source": [
        "# TODO: 3 Check if there are nulls and display their total for each feature\n",
        "df.isnull().sum()"
      ]
    },
    {
      "cell_type": "code",
      "execution_count": null,
      "id": "a3ac05f0",
      "metadata": {
        "id": "a3ac05f0",
        "outputId": "c3c67456-d331-4df6-8304-59f9687079d9",
        "colab": {
          "base_uri": "https://localhost:8080/"
        }
      },
      "outputs": [
        {
          "output_type": "stream",
          "name": "stdout",
          "text": [
            "Number of duplicates = 1256\n"
          ]
        }
      ],
      "source": [
        "# TODO: 4 Check for duplicates\n",
        "dupsSeries = df.duplicated() # Should return a pandas Series with True False for every row\n",
        "\n",
        "# Print the number of duplicates\n",
        "print(f\"Number of duplicates = {dupsSeries.sum()}\")"
      ]
    },
    {
      "cell_type": "code",
      "execution_count": null,
      "id": "9257f7e9",
      "metadata": {
        "id": "9257f7e9"
      },
      "outputs": [],
      "source": [
        "# TODO: 5 Drop duplicates inplace\n",
        "df.drop_duplicates(inplace=True)"
      ]
    },
    {
      "cell_type": "code",
      "execution_count": null,
      "id": "a2966934",
      "metadata": {
        "id": "a2966934",
        "outputId": "24fcf815-f7ab-4bda-d2ea-c93b52720ed2",
        "colab": {
          "base_uri": "https://localhost:8080/"
        }
      },
      "outputs": [
        {
          "output_type": "stream",
          "name": "stdout",
          "text": [
            "<class 'pandas.core.frame.DataFrame'>\n",
            "Int64Index: 744 entries, 0 to 1568\n",
            "Data columns (total 9 columns):\n",
            " #   Column                    Non-Null Count  Dtype  \n",
            "---  ------                    --------------  -----  \n",
            " 0   Pregnancies               744 non-null    int64  \n",
            " 1   Glucose                   744 non-null    int64  \n",
            " 2   BloodPressure             744 non-null    int64  \n",
            " 3   SkinThickness             744 non-null    int64  \n",
            " 4   Insulin                   744 non-null    int64  \n",
            " 5   BMI                       744 non-null    float64\n",
            " 6   DiabetesPedigreeFunction  744 non-null    float64\n",
            " 7   Age                       744 non-null    int64  \n",
            " 8   Outcome                   744 non-null    int64  \n",
            "dtypes: float64(2), int64(7)\n",
            "memory usage: 58.1 KB\n"
          ]
        }
      ],
      "source": [
        "# TODO: 6 Display how many rows exist in dataframe after dropping duplicates\n",
        "df.info(verbose=True, show_counts=True)"
      ]
    },
    {
      "cell_type": "code",
      "execution_count": null,
      "id": "9aa203e5",
      "metadata": {
        "id": "9aa203e5",
        "outputId": "04867f15-a3cb-437c-8ce4-ecf49c59ceb4",
        "colab": {
          "base_uri": "https://localhost:8080/"
        }
      },
      "outputs": [
        {
          "output_type": "execute_result",
          "data": {
            "text/plain": [
              "Pregnancies                  17\n",
              "Glucose                     136\n",
              "BloodPressure                47\n",
              "SkinThickness                53\n",
              "Insulin                     182\n",
              "BMI                         247\n",
              "DiabetesPedigreeFunction    505\n",
              "Age                          52\n",
              "Outcome                       2\n",
              "dtype: int64"
            ]
          },
          "metadata": {},
          "execution_count": 10
        }
      ],
      "source": [
        "# TODO: 7 Identify candidate features for encoding by seeing how many distinct values are present in every column\n",
        "df.nunique()"
      ]
    },
    {
      "cell_type": "code",
      "execution_count": null,
      "id": "54a9b308",
      "metadata": {
        "id": "54a9b308",
        "outputId": "492ca2f9-42e8-483c-adaa-82d9e5020f8d",
        "colab": {
          "base_uri": "https://localhost:8080/"
        }
      },
      "outputs": [
        {
          "output_type": "execute_result",
          "data": {
            "text/plain": [
              "array([ 2,  0,  1,  4,  8,  3,  6,  5,  7, 10, 12,  9, 11, 13, 15, 17, 14])"
            ]
          },
          "metadata": {},
          "execution_count": 11
        }
      ],
      "source": [
        "# TODO: 8\n",
        "# Display all possible values that the column named \"Pregnancies\" has in this dataframe\n",
        "df[\"Pregnancies\"].unique()\n",
        "\n",
        "# Based on different possible values of Pregnancies, would you choose this feature to be encoded?\n",
        "# State your reason as 1 sentence comment here\n",
        "# Answer::-- encoding the \"Pregnancies\" feature is typically not necessary as it represents a discrete numerical value that can be used directly by many machine learning algorithms."
      ]
    },
    {
      "cell_type": "code",
      "execution_count": null,
      "id": "2356465a",
      "metadata": {
        "id": "2356465a",
        "outputId": "215b6fe1-bd64-4aa9-869a-f158a7a526c9",
        "colab": {
          "base_uri": "https://localhost:8080/"
        }
      },
      "outputs": [
        {
          "output_type": "execute_result",
          "data": {
            "text/plain": [
              "0.6599462365591398"
            ]
          },
          "metadata": {},
          "execution_count": 12
        }
      ],
      "source": [
        "# TODO: 9 Find if this is an dataset is imbalanced wrt target variable classes\n",
        "zeroClassCount = df[df[\"Outcome\"] == 0][\"Outcome\"].count()\n",
        "zeroClassCount/df[\"Outcome\"].count()"
      ]
    },
    {
      "cell_type": "code",
      "execution_count": null,
      "id": "d0b2ba68",
      "metadata": {
        "id": "d0b2ba68",
        "outputId": "02957e34-c4c0-4c35-d535-7cc7ab626b40",
        "colab": {
          "base_uri": "https://localhost:8080/",
          "height": 695
        }
      },
      "outputs": [
        {
          "output_type": "display_data",
          "data": {
            "text/plain": [
              "<Figure size 1200x600 with 2 Axes>"
            ],
            "image/png": "[encoded data removed]"
          },
          "metadata": {}
        }
      ],
      "source": [
        "# TODO: 10 Run this cell to display correlation matrix heat map\n",
        "# Would you consider dropping any feature based on their correlation?\n",
        "# Type your answers here:Based on the provided correlation heatmap, it appears that no immediate feature should be dropped due to high correlation, as there are no strong correlations (close to 1 or -1) between any features. However, further analysis and domain knowledge should be considered to make a final decision.\n",
        "plt.figure(figsize=(12,6))\n",
        "sns.heatmap(df.corr(),cmap='plasma',fmt='.2g',annot=True,mask=np.triu(df.corr(),+1))\n",
        "plt.show()"
      ]
    },
    {
      "cell_type": "code",
      "execution_count": null,
      "id": "1c113cab",
      "metadata": {
        "id": "1c113cab",
        "outputId": "786f1910-4b2c-4ed5-fb68-df40bf645b51",
        "colab": {
          "base_uri": "https://localhost:8080/",
          "height": 495
        }
      },
      "outputs": [
        {
          "output_type": "display_data",
          "data": {
            "text/plain": [
              "<Figure size 1500x500 with 9 Axes>"
            ],
            "image/png": "[encoded data removed]"
          },
          "metadata": {}
        }
      ],
      "source": [
        "# TODO: 11 Run this cell to see box plots.\n",
        "# Visually examine the box plot and answer this question\n",
        "# How do you identify the 1.5 IQR boundary?\n",
        "# Which two features have most outliers beyond 1.5 IQR?\n",
        "# (Increase the figure size if you want to see larger image)\n",
        "# Put your answer for both questions here\n",
        "# Answer::-- The 1.5 IQR boundary is identified as a range that extends 1.5 times the Interquartile Range (IQR) below the 25th percentile (Q1) and above the 75th percentile (Q3) in a box plot to identify potential outliers.\n",
        "# ______pregnancy and Diabetes pedigree function_________________________________\n",
        "\n",
        "df.plot(kind=\"box\",subplots=True,figsize=(15,5),title=\"Data with Outliers\");"
      ]
    },
    {
      "cell_type": "code",
      "execution_count": null,
      "id": "77808594",
      "metadata": {
        "id": "77808594"
      },
      "outputs": [],
      "source": [
        "# TODO: 12 Did you see any nulls in the dataset?\n",
        "# Ans: _____YES___________________________________"
      ]
    },
    {
      "cell_type": "code",
      "execution_count": null,
      "id": "e0ca358f",
      "metadata": {
        "id": "e0ca358f",
        "outputId": "930a1997-cdc2-487a-8793-7142bb8cbaa9",
        "colab": {
          "base_uri": "https://localhost:8080/"
        }
      },
      "outputs": [
        {
          "output_type": "stream",
          "name": "stdout",
          "text": [
            "Count of zeros in Column Pregnancies : 112, percentage 0s: 15.05%\n",
            "Count of zeros in Column Glucose : 5, percentage 0s: 0.67%\n",
            "Count of zeros in Column BloodPressure : 34, percentage 0s: 4.57%\n",
            "Count of zeros in Column SkinThickness : 215, percentage 0s: 28.90%\n",
            "Count of zeros in Column Insulin : 359, percentage 0s: 48.25%\n",
            "Count of zeros in Column BMI : 10, percentage 0s: 1.34%\n",
            "Count of zeros in Column DiabetesPedigreeFunction : 0, percentage 0s: 0.00%\n",
            "Count of zeros in Column Age : 0, percentage 0s: 0.00%\n",
            "Count of zeros in Column Outcome : 491, percentage 0s: 65.99%\n"
          ]
        }
      ],
      "source": [
        "# But look at how many features have zeros in them\n",
        "# Display zeroes in each column as percentage\n",
        "for col in df.columns:\n",
        "    count = (df[col] == 0).sum()\n",
        "    percentage = (count * 100)/df.shape[0]\n",
        "    print(f'Count of zeros in Column {col} : {count}, percentage 0s: {percentage:.2f}%')"
      ]
    },
    {
      "cell_type": "markdown",
      "id": "35d62ad2",
      "metadata": {
        "id": "35d62ad2"
      },
      "source": [
        "1. After executing the above cell, you found many cells contain 0.\n",
        "2. Some cells should never contain 0. For e.g. Glucose\n",
        "3. Identify the cells that should never contain 0 and replace those 0 with Nan"
      ]
    },
    {
      "cell_type": "code",
      "execution_count": null,
      "id": "cd3ab3f5",
      "metadata": {
        "id": "cd3ab3f5"
      },
      "outputs": [],
      "source": [
        "# TODO: 13 Replace 0 with Nan for features that should never contain 0\n",
        "# Choose 5 columns you want to replace 0 with Nan\n",
        "df[[\"Glucose\", \"BloodPressure\", \"SkinThickness\", \"Insulin\", \"BMI\"]] = \\\n",
        "    df[[\"Glucose\", \"BloodPressure\", \"SkinThickness\", \"Insulin\", \"BMI\"]].replace(0, np.NaN)"
      ]
    },
    {
      "cell_type": "code",
      "execution_count": null,
      "id": "32ce77f7",
      "metadata": {
        "id": "32ce77f7",
        "outputId": "f9ea1dfc-f576-4ee1-af1b-e9c52af7c131",
        "colab": {
          "base_uri": "https://localhost:8080/"
        }
      },
      "outputs": [
        {
          "output_type": "execute_result",
          "data": {
            "text/plain": [
              "Pregnancies                   0\n",
              "Glucose                       5\n",
              "BloodPressure                34\n",
              "SkinThickness               215\n",
              "Insulin                     359\n",
              "BMI                          10\n",
              "DiabetesPedigreeFunction      0\n",
              "Age                           0\n",
              "Outcome                       0\n",
              "dtype: int64"
            ]
          },
          "metadata": {},
          "execution_count": 19
        }
      ],
      "source": [
        "# TODO: 14  Now do null check again to ensure the right featues have Nans. Otherwise go back and fix\n",
        "\n",
        "df.isnull().sum()"
      ]
    },
    {
      "cell_type": "code",
      "execution_count": null,
      "id": "109f7af9",
      "metadata": {
        "id": "109f7af9",
        "outputId": "cbc31974-01b7-4141-ee6e-7a15933b0c1c",
        "colab": {
          "base_uri": "https://localhost:8080/"
        }
      },
      "outputs": [
        {
          "output_type": "execute_result",
          "data": {
            "text/plain": [
              "pandas.core.series.Series"
            ]
          },
          "metadata": {},
          "execution_count": 20
        }
      ],
      "source": [
        "y = df.pop(\"Outcome\") #Setup target variable\n",
        "type(y)"
      ]
    },
    {
      "cell_type": "code",
      "execution_count": null,
      "id": "114e7d5a",
      "metadata": {
        "id": "114e7d5a"
      },
      "outputs": [],
      "source": [
        "# TODO: 15\n",
        "\n",
        "# Answer these questions with short one liner right in this cell as a comment\n",
        "#\n",
        "# 1. What does the pop operation do?\n",
        "#The `pop` operation removes and returns the specified column from a pandas DataFrame.\n",
        "#\n",
        "# 2. Is pop() idempotent or non-idempotent operation?\n",
        "#The pop() operation is non-idempotent because it modifies the DataFrame by removing the specified column.\n",
        "#\n",
        "# 3. How do you check if an operation is idempotent/non-idempotent?\n",
        "# we can check if an operation is idempotent by assessing whether applying it multiple times has the same effect as applying it once.\n",
        "#"
      ]
    },
    {
      "cell_type": "code",
      "execution_count": null,
      "id": "2e8eddba",
      "metadata": {
        "id": "2e8eddba"
      },
      "outputs": [],
      "source": [
        "X = df # Setup independent variables"
      ]
    },
    {
      "cell_type": "code",
      "execution_count": null,
      "id": "fb9034d4",
      "metadata": {
        "id": "fb9034d4"
      },
      "outputs": [],
      "source": [
        "from sklearn.model_selection import train_test_split\n",
        "\n",
        "\n",
        "X_train, X_test, y_train, y_test = train_test_split(X, y, test_size=0.25, random_state=0, stratify=y)"
      ]
    },
    {
      "cell_type": "code",
      "execution_count": null,
      "id": "e3ac3ba0",
      "metadata": {
        "id": "e3ac3ba0"
      },
      "outputs": [],
      "source": [
        "# TODO: 16 Answer these questions\n",
        "# 1. Did you use stratify?\n",
        "# Answer : Yes\n",
        "#\n",
        "# 2. If yes, on which column and why? If not, why not?\n",
        "#By including stratify=y, we can ensure that the class distribution in the y (target variable) is preserved when splitting the data into training and testing sets\n",
        "#"
      ]
    },
    {
      "cell_type": "code",
      "execution_count": null,
      "id": "39b22b5e",
      "metadata": {
        "id": "39b22b5e",
        "outputId": "5ad594b9-d619-4820-8f32-2040227c77fe",
        "colab": {
          "base_uri": "https://localhost:8080/",
          "height": 1000
        }
      },
      "outputs": [
        {
          "output_type": "error",
          "ename": "InvalidIndexError",
          "evalue": "ignored",
          "traceback": [
            "\u001b[0;31m---------------------------------------------------------------------------\u001b[0m",
            "\u001b[0;31mTypeError\u001b[0m                                 Traceback (most recent call last)",
            "\u001b[0;32m/usr/local/lib/python3.10/dist-packages/pandas/core/indexes/base.py\u001b[0m in \u001b[0;36mget_loc\u001b[0;34m(self, key, method, tolerance)\u001b[0m\n\u001b[1;32m   3801\u001b[0m             \u001b[0;32mtry\u001b[0m\u001b[0;34m:\u001b[0m\u001b[0;34m\u001b[0m\u001b[0;34m\u001b[0m\u001b[0m\n\u001b[0;32m-> 3802\u001b[0;31m                 \u001b[0;32mreturn\u001b[0m \u001b[0mself\u001b[0m\u001b[0;34m.\u001b[0m\u001b[0m_engine\u001b[0m\u001b[0;34m.\u001b[0m\u001b[0mget_loc\u001b[0m\u001b[0;34m(\u001b[0m\u001b[0mcasted_key\u001b[0m\u001b[0;34m)\u001b[0m\u001b[0;34m\u001b[0m\u001b[0;34m\u001b[0m\u001b[0m\n\u001b[0m\u001b[1;32m   3803\u001b[0m             \u001b[0;32mexcept\u001b[0m \u001b[0mKeyError\u001b[0m \u001b[0;32mas\u001b[0m \u001b[0merr\u001b[0m\u001b[0;34m:\u001b[0m\u001b[0;34m\u001b[0m\u001b[0;34m\u001b[0m\u001b[0m\n",
            "\u001b[0;32m/usr/local/lib/python3.10/dist-packages/pandas/_libs/index.pyx\u001b[0m in \u001b[0;36mpandas._libs.index.IndexEngine.get_loc\u001b[0;34m()\u001b[0m\n",
            "\u001b[0;32m/usr/local/lib/python3.10/dist-packages/pandas/_libs/index.pyx\u001b[0m in \u001b[0;36mpandas._libs.index.IndexEngine.get_loc\u001b[0;34m()\u001b[0m\n",
            "\u001b[0;31mTypeError\u001b[0m: '(     Pregnancies  Glucose  BloodPressure  SkinThickness  Insulin   BMI  \\\n616            6    117.0           96.0            NaN      NaN  28.7   \n48             7    103.0           66.0           32.0      NaN  39.1   \n200            0    113.0           80.0           16.0      NaN  31.0   \n101            1    151.0           60.0            NaN      NaN  26.1   \n615            3    106.0           72.0            NaN      NaN  25.8   \n..           ...      ...            ...            ...      ...   ...   \n276            7    106.0           60.0           24.0      NaN  26.5   \n687            1    107.0           50.0           19.0      NaN  28.3   \n60             2     84.0            NaN            NaN      NaN   NaN   \n404            5    168.0           64.0            NaN      NaN  32.9   \n636            5    104.0           74.0            NaN      NaN  28.8   \n\n     DiabetesPedigreeFunction  Age  \n616                     0.157   30  \n48                      0.344   31  \n200                     0.874   21  \n101                     0.179   22  \n615                     0.207   27  \n..                        ...  ...  \n276                     0.296   29  \n687                     0.181   29  \n60                      0.304   21  \n404                     0.135   41  \n636                     0.153   48  \n\n[270 rows x 8 columns], slice(None, None, None))' is an invalid key",
            "\nDuring handling of the above exception, another exception occurred:\n",
            "\u001b[0;31mInvalidIndexError\u001b[0m                         Traceback (most recent call last)",
            "\u001b[0;32m<ipython-input-32-30ca0b83c793>\u001b[0m in \u001b[0;36m<cell line: 6>\u001b[0;34m()\u001b[0m\n\u001b[1;32m      4\u001b[0m \u001b[0mnan_rows\u001b[0m \u001b[0;34m=\u001b[0m \u001b[0mX_train\u001b[0m\u001b[0;34m[\u001b[0m\u001b[0mX_train\u001b[0m\u001b[0;34m.\u001b[0m\u001b[0misna\u001b[0m\u001b[0;34m(\u001b[0m\u001b[0;34m)\u001b[0m\u001b[0;34m.\u001b[0m\u001b[0many\u001b[0m\u001b[0;34m(\u001b[0m\u001b[0maxis\u001b[0m\u001b[0;34m=\u001b[0m\u001b[0;36m1\u001b[0m\u001b[0;34m)\u001b[0m\u001b[0;34m]\u001b[0m\u001b[0;34m\u001b[0m\u001b[0;34m\u001b[0m\u001b[0m\n\u001b[1;32m      5\u001b[0m \u001b[0;34m\u001b[0m\u001b[0m\n\u001b[0;32m----> 6\u001b[0;31m \u001b[0mX_train\u001b[0m\u001b[0;34m[\u001b[0m\u001b[0mnan_rows\u001b[0m\u001b[0;34m,\u001b[0m \u001b[0;34m:\u001b[0m\u001b[0;34m]\u001b[0m\u001b[0;34m\u001b[0m\u001b[0;34m\u001b[0m\u001b[0m\n\u001b[0m",
            "\u001b[0;32m/usr/local/lib/python3.10/dist-packages/pandas/core/frame.py\u001b[0m in \u001b[0;36m__getitem__\u001b[0;34m(self, key)\u001b[0m\n\u001b[1;32m   3805\u001b[0m             \u001b[0;32mif\u001b[0m \u001b[0mself\u001b[0m\u001b[0;34m.\u001b[0m\u001b[0mcolumns\u001b[0m\u001b[0;34m.\u001b[0m\u001b[0mnlevels\u001b[0m \u001b[0;34m>\u001b[0m \u001b[0;36m1\u001b[0m\u001b[0;34m:\u001b[0m\u001b[0;34m\u001b[0m\u001b[0;34m\u001b[0m\u001b[0m\n\u001b[1;32m   3806\u001b[0m                 \u001b[0;32mreturn\u001b[0m \u001b[0mself\u001b[0m\u001b[0;34m.\u001b[0m\u001b[0m_getitem_multilevel\u001b[0m\u001b[0;34m(\u001b[0m\u001b[0mkey\u001b[0m\u001b[0;34m)\u001b[0m\u001b[0;34m\u001b[0m\u001b[0;34m\u001b[0m\u001b[0m\n\u001b[0;32m-> 3807\u001b[0;31m             \u001b[0mindexer\u001b[0m \u001b[0;34m=\u001b[0m \u001b[0mself\u001b[0m\u001b[0;34m.\u001b[0m\u001b[0mcolumns\u001b[0m\u001b[0;34m.\u001b[0m\u001b[0mget_loc\u001b[0m\u001b[0;34m(\u001b[0m\u001b[0mkey\u001b[0m\u001b[0;34m)\u001b[0m\u001b[0;34m\u001b[0m\u001b[0;34m\u001b[0m\u001b[0m\n\u001b[0m\u001b[1;32m   3808\u001b[0m             \u001b[0;32mif\u001b[0m \u001b[0mis_integer\u001b[0m\u001b[0;34m(\u001b[0m\u001b[0mindexer\u001b[0m\u001b[0;34m)\u001b[0m\u001b[0;34m:\u001b[0m\u001b[0;34m\u001b[0m\u001b[0;34m\u001b[0m\u001b[0m\n\u001b[1;32m   3809\u001b[0m                 \u001b[0mindexer\u001b[0m \u001b[0;34m=\u001b[0m \u001b[0;34m[\u001b[0m\u001b[0mindexer\u001b[0m\u001b[0;34m]\u001b[0m\u001b[0;34m\u001b[0m\u001b[0;34m\u001b[0m\u001b[0m\n",
            "\u001b[0;32m/usr/local/lib/python3.10/dist-packages/pandas/core/indexes/base.py\u001b[0m in \u001b[0;36mget_loc\u001b[0;34m(self, key, method, tolerance)\u001b[0m\n\u001b[1;32m   3807\u001b[0m                 \u001b[0;31m#  InvalidIndexError. Otherwise we fall through and re-raise\u001b[0m\u001b[0;34m\u001b[0m\u001b[0;34m\u001b[0m\u001b[0m\n\u001b[1;32m   3808\u001b[0m                 \u001b[0;31m#  the TypeError.\u001b[0m\u001b[0;34m\u001b[0m\u001b[0;34m\u001b[0m\u001b[0m\n\u001b[0;32m-> 3809\u001b[0;31m                 \u001b[0mself\u001b[0m\u001b[0;34m.\u001b[0m\u001b[0m_check_indexing_error\u001b[0m\u001b[0;34m(\u001b[0m\u001b[0mkey\u001b[0m\u001b[0;34m)\u001b[0m\u001b[0;34m\u001b[0m\u001b[0;34m\u001b[0m\u001b[0m\n\u001b[0m\u001b[1;32m   3810\u001b[0m                 \u001b[0;32mraise\u001b[0m\u001b[0;34m\u001b[0m\u001b[0;34m\u001b[0m\u001b[0m\n\u001b[1;32m   3811\u001b[0m \u001b[0;34m\u001b[0m\u001b[0m\n",
            "\u001b[0;32m/usr/local/lib/python3.10/dist-packages/pandas/core/indexes/base.py\u001b[0m in \u001b[0;36m_check_indexing_error\u001b[0;34m(self, key)\u001b[0m\n\u001b[1;32m   5923\u001b[0m             \u001b[0;31m# if key is not a scalar, directly raise an error (the code below\u001b[0m\u001b[0;34m\u001b[0m\u001b[0;34m\u001b[0m\u001b[0m\n\u001b[1;32m   5924\u001b[0m             \u001b[0;31m# would convert to numpy arrays and raise later any way) - GH29926\u001b[0m\u001b[0;34m\u001b[0m\u001b[0;34m\u001b[0m\u001b[0m\n\u001b[0;32m-> 5925\u001b[0;31m             \u001b[0;32mraise\u001b[0m \u001b[0mInvalidIndexError\u001b[0m\u001b[0;34m(\u001b[0m\u001b[0mkey\u001b[0m\u001b[0;34m)\u001b[0m\u001b[0;34m\u001b[0m\u001b[0;34m\u001b[0m\u001b[0m\n\u001b[0m\u001b[1;32m   5926\u001b[0m \u001b[0;34m\u001b[0m\u001b[0m\n\u001b[1;32m   5927\u001b[0m     \u001b[0;34m@\u001b[0m\u001b[0mcache_readonly\u001b[0m\u001b[0;34m\u001b[0m\u001b[0;34m\u001b[0m\u001b[0m\n",
            "\u001b[0;31mInvalidIndexError\u001b[0m: (     Pregnancies  Glucose  BloodPressure  SkinThickness  Insulin   BMI  \\\n616            6    117.0           96.0            NaN      NaN  28.7   \n48             7    103.0           66.0           32.0      NaN  39.1   \n200            0    113.0           80.0           16.0      NaN  31.0   \n101            1    151.0           60.0            NaN      NaN  26.1   \n615            3    106.0           72.0            NaN      NaN  25.8   \n..           ...      ...            ...            ...      ...   ...   \n276            7    106.0           60.0           24.0      NaN  26.5   \n687            1    107.0           50.0           19.0      NaN  28.3   \n60             2     84.0            NaN            NaN      NaN   NaN   \n404            5    168.0           64.0            NaN      NaN  32.9   \n636            5    104.0           74.0            NaN      NaN  28.8   \n\n     DiabetesPedigreeFunction  Age  \n616                     0.157   30  \n48                      0.344   31  \n200                     0.874   21  \n101                     0.179   22  \n615                     0.207   27  \n..                        ...  ...  \n276                     0.296   29  \n687                     0.181   29  \n60                      0.304   21  \n404                     0.135   41  \n636                     0.153   48  \n\n[270 rows x 8 columns], slice(None, None, None))"
          ]
        }
      ],
      "source": [
        "# TODO: 17 Display all records that have at least one Nan column value\n",
        "# If you cannot get this, you can leave this cell execution and proceed\n",
        "# Subsequent cells do not depend on this. If you cannot solve this, you can proceed to next cell\n",
        "nan_rows = X_train[X_train.isna().any(axis=1)]\n",
        "\n",
        "X_train[nan_rows, :]"
      ]
    },
    {
      "cell_type": "markdown",
      "id": "f47de1f8",
      "metadata": {
        "id": "f47de1f8"
      },
      "source": [
        "##### Deciding on Imputation\n",
        "1. Now you should decide which imputation to use - whether SimpleImputer or IterativeImputer\n",
        "2. Instead of following MCAR/MAR path to decide on SimpleImputer or IterativeImputer, you will take a simple alternative\n",
        "3. Use IterativeImputer if a large number of rows have Nan for a column\n",
        "4. Use SimpleImputer if the number of Nans is very small"
      ]
    },
    {
      "cell_type": "code",
      "execution_count": null,
      "id": "130c6f9c",
      "metadata": {
        "id": "130c6f9c",
        "outputId": "c1cbb1f4-1f67-4e0b-e325-c877b3cd31c3",
        "colab": {
          "base_uri": "https://localhost:8080/"
        }
      },
      "outputs": [
        {
          "output_type": "stream",
          "name": "stdout",
          "text": [
            "X_train.shape=(558, 8)\n"
          ]
        },
        {
          "output_type": "execute_result",
          "data": {
            "text/plain": [
              "Pregnancies                   0\n",
              "Glucose                       2\n",
              "BloodPressure                26\n",
              "SkinThickness               159\n",
              "Insulin                     267\n",
              "BMI                          10\n",
              "DiabetesPedigreeFunction      0\n",
              "Age                           0\n",
              "dtype: int64"
            ]
          },
          "metadata": {},
          "execution_count": 33
        }
      ],
      "source": [
        "print(f\"X_train.shape={X_train.shape}\")\n",
        "X_train.isna().sum()"
      ]
    },
    {
      "cell_type": "code",
      "execution_count": null,
      "id": "ca0ec6b8",
      "metadata": {
        "id": "ca0ec6b8",
        "outputId": "32364df7-f9d8-4d5a-c050-de2b990425ce",
        "colab": {
          "base_uri": "https://localhost:8080/",
          "height": 423
        }
      },
      "outputs": [
        {
          "output_type": "execute_result",
          "data": {
            "text/plain": [
              "     Glucose  BloodPressure   BMI  DiabetesPedigreeFunction  Age\n",
              "616    117.0           96.0  28.7                     0.157   30\n",
              "318    115.0           66.0  38.1                     0.150   28\n",
              "25     130.0           60.0  28.6                     0.692   21\n",
              "328    102.0           86.0  45.5                     0.127   23\n",
              "760     88.0           58.0  28.4                     0.766   22\n",
              "..       ...            ...   ...                       ...  ...\n",
              "462     74.0           70.0  35.3                     0.705   39\n",
              "390    100.0           66.0  32.0                     0.444   42\n",
              "307    137.0           68.0  24.8                     0.143   21\n",
              "636    104.0           74.0  28.8                     0.153   48\n",
              "765    121.0           72.0  26.2                     0.245   30\n",
              "\n",
              "[558 rows x 5 columns]"
            ],
            "text/html": [
              "\n",
              "  <div id=\"df-32e48ed8-0f67-4cfa-9a8c-fe86cd881b12\" class=\"colab-df-container\">\n",
              "    <div>\n",
              "<style scoped>\n",
              "    .dataframe tbody tr th:only-of-type {\n",
              "        vertical-align: middle;\n",
              "    }\n",
              "\n",
              "    .dataframe tbody tr th {\n",
              "        vertical-align: top;\n",
              "    }\n",
              "\n",
              "    .dataframe thead th {\n",
              "        text-align: right;\n",
              "    }\n",
              "</style>\n",
              "<table border=\"1\" class=\"dataframe\">\n",
              "  <thead>\n",
              "    <tr style=\"text-align: right;\">\n",
              "      <th></th>\n",
              "      <th>Glucose</th>\n",
              "      <th>BloodPressure</th>\n",
              "      <th>BMI</th>\n",
              "      <th>DiabetesPedigreeFunction</th>\n",
              "      <th>Age</th>\n",
              "    </tr>\n",
              "  </thead>\n",
              "  <tbody>\n",
              "    <tr>\n",
              "      <th>616</th>\n",
              "      <td>117.0</td>\n",
              "      <td>96.0</td>\n",
              "      <td>28.7</td>\n",
              "      <td>0.157</td>\n",
              "      <td>30</td>\n",
              "    </tr>\n",
              "    <tr>\n",
              "      <th>318</th>\n",
              "      <td>115.0</td>\n",
              "      <td>66.0</td>\n",
              "      <td>38.1</td>\n",
              "      <td>0.150</td>\n",
              "      <td>28</td>\n",
              "    </tr>\n",
              "    <tr>\n",
              "      <th>25</th>\n",
              "      <td>130.0</td>\n",
              "      <td>60.0</td>\n",
              "      <td>28.6</td>\n",
              "      <td>0.692</td>\n",
              "      <td>21</td>\n",
              "    </tr>\n",
              "    <tr>\n",
              "      <th>328</th>\n",
              "      <td>102.0</td>\n",
              "      <td>86.0</td>\n",
              "      <td>45.5</td>\n",
              "      <td>0.127</td>\n",
              "      <td>23</td>\n",
              "    </tr>\n",
              "    <tr>\n",
              "      <th>760</th>\n",
              "      <td>88.0</td>\n",
              "      <td>58.0</td>\n",
              "      <td>28.4</td>\n",
              "      <td>0.766</td>\n",
              "      <td>22</td>\n",
              "    </tr>\n",
              "    <tr>\n",
              "      <th>...</th>\n",
              "      <td>...</td>\n",
              "      <td>...</td>\n",
              "      <td>...</td>\n",
              "      <td>...</td>\n",
              "      <td>...</td>\n",
              "    </tr>\n",
              "    <tr>\n",
              "      <th>462</th>\n",
              "      <td>74.0</td>\n",
              "      <td>70.0</td>\n",
              "      <td>35.3</td>\n",
              "      <td>0.705</td>\n",
              "      <td>39</td>\n",
              "    </tr>\n",
              "    <tr>\n",
              "      <th>390</th>\n",
              "      <td>100.0</td>\n",
              "      <td>66.0</td>\n",
              "      <td>32.0</td>\n",
              "      <td>0.444</td>\n",
              "      <td>42</td>\n",
              "    </tr>\n",
              "    <tr>\n",
              "      <th>307</th>\n",
              "      <td>137.0</td>\n",
              "      <td>68.0</td>\n",
              "      <td>24.8</td>\n",
              "      <td>0.143</td>\n",
              "      <td>21</td>\n",
              "    </tr>\n",
              "    <tr>\n",
              "      <th>636</th>\n",
              "      <td>104.0</td>\n",
              "      <td>74.0</td>\n",
              "      <td>28.8</td>\n",
              "      <td>0.153</td>\n",
              "      <td>48</td>\n",
              "    </tr>\n",
              "    <tr>\n",
              "      <th>765</th>\n",
              "      <td>121.0</td>\n",
              "      <td>72.0</td>\n",
              "      <td>26.2</td>\n",
              "      <td>0.245</td>\n",
              "      <td>30</td>\n",
              "    </tr>\n",
              "  </tbody>\n",
              "</table>\n",
              "<p>558 rows × 5 columns</p>\n",
              "</div>\n",
              "    <div class=\"colab-df-buttons\">\n",
              "\n",
              "  <div class=\"colab-df-container\">\n",
              "    <button class=\"colab-df-convert\" onclick=\"convertToInteractive('df-32e48ed8-0f67-4cfa-9a8c-fe86cd881b12')\"\n",
              "            title=\"Convert this dataframe to an interactive table.\"\n",
              "            style=\"display:none;\">\n",
              "\n",
              "  <svg xmlns=\"http://www.w3.org/2000/svg\" height=\"24px\" viewBox=\"0 -960 960 960\">\n",
              "    <path d=\"M120-120v-720h720v720H120Zm60-500h600v-160H180v160Zm220 220h160v-160H400v160Zm0 220h160v-160H400v160ZM180-400h160v-160H180v160Zm440 0h160v-160H620v160ZM180-180h160v-160H180v160Zm440 0h160v-160H620v160Z\"/>\n",
              "  </svg>\n",
              "    </button>\n",
              "\n",
              "  <style>\n",
              "    .colab-df-container {\n",
              "      display:flex;\n",
              "      gap: 12px;\n",
              "    }\n",
              "\n",
              "    .colab-df-convert {\n",
              "      background-color: #E8F0FE;\n",
              "      border: none;\n",
              "      border-radius: 50%;\n",
              "      cursor: pointer;\n",
              "      display: none;\n",
              "      fill: #1967D2;\n",
              "      height: 32px;\n",
              "      padding: 0 0 0 0;\n",
              "      width: 32px;\n",
              "    }\n",
              "\n",
              "    .colab-df-convert:hover {\n",
              "      background-color: #E2EBFA;\n",
              "      box-shadow: 0px 1px 2px rgba(60, 64, 67, 0.3), 0px 1px 3px 1px rgba(60, 64, 67, 0.15);\n",
              "      fill: #174EA6;\n",
              "    }\n",
              "\n",
              "    .colab-df-buttons div {\n",
              "      margin-bottom: 4px;\n",
              "    }\n",
              "\n",
              "    [theme=dark] .colab-df-convert {\n",
              "      background-color: #3B4455;\n",
              "      fill: #D2E3FC;\n",
              "    }\n",
              "\n",
              "    [theme=dark] .colab-df-convert:hover {\n",
              "      background-color: #434B5C;\n",
              "      box-shadow: 0px 1px 3px 1px rgba(0, 0, 0, 0.15);\n",
              "      filter: drop-shadow(0px 1px 2px rgba(0, 0, 0, 0.3));\n",
              "      fill: #FFFFFF;\n",
              "    }\n",
              "  </style>\n",
              "\n",
              "    <script>\n",
              "      const buttonEl =\n",
              "        document.querySelector('#df-32e48ed8-0f67-4cfa-9a8c-fe86cd881b12 button.colab-df-convert');\n",
              "      buttonEl.style.display =\n",
              "        google.colab.kernel.accessAllowed ? 'block' : 'none';\n",
              "\n",
              "      async function convertToInteractive(key) {\n",
              "        const element = document.querySelector('#df-32e48ed8-0f67-4cfa-9a8c-fe86cd881b12');\n",
              "        const dataTable =\n",
              "          await google.colab.kernel.invokeFunction('convertToInteractive',\n",
              "                                                    [key], {});\n",
              "        if (!dataTable) return;\n",
              "\n",
              "        const docLinkHtml = 'Like what you see? Visit the ' +\n",
              "          '<a target=\"_blank\" href=https://colab.research.google.com/notebooks/data_table.ipynb>data table notebook</a>'\n",
              "          + ' to learn more about interactive tables.';\n",
              "        element.innerHTML = '';\n",
              "        dataTable['output_type'] = 'display_data';\n",
              "        await google.colab.output.renderOutput(dataTable, element);\n",
              "        const docLink = document.createElement('div');\n",
              "        docLink.innerHTML = docLinkHtml;\n",
              "        element.appendChild(docLink);\n",
              "      }\n",
              "    </script>\n",
              "  </div>\n",
              "\n",
              "\n",
              "<div id=\"df-a68d56f0-38b3-45a2-82ec-be59700ccbe6\">\n",
              "  <button class=\"colab-df-quickchart\" onclick=\"quickchart('df-a68d56f0-38b3-45a2-82ec-be59700ccbe6')\"\n",
              "            title=\"Suggest charts.\"\n",
              "            style=\"display:none;\">\n",
              "\n",
              "<svg xmlns=\"http://www.w3.org/2000/svg\" height=\"24px\"viewBox=\"0 0 24 24\"\n",
              "     width=\"24px\">\n",
              "    <g>\n",
              "        <path d=\"M19 3H5c-1.1 0-2 .9-2 2v14c0 1.1.9 2 2 2h14c1.1 0 2-.9 2-2V5c0-1.1-.9-2-2-2zM9 17H7v-7h2v7zm4 0h-2V7h2v10zm4 0h-2v-4h2v4z\"/>\n",
              "    </g>\n",
              "</svg>\n",
              "  </button>\n",
              "\n",
              "<style>\n",
              "  .colab-df-quickchart {\n",
              "      --bg-color: #E8F0FE;\n",
              "      --fill-color: #1967D2;\n",
              "      --hover-bg-color: #E2EBFA;\n",
              "      --hover-fill-color: #174EA6;\n",
              "      --disabled-fill-color: #AAA;\n",
              "      --disabled-bg-color: #DDD;\n",
              "  }\n",
              "\n",
              "  [theme=dark] .colab-df-quickchart {\n",
              "      --bg-color: #3B4455;\n",
              "      --fill-color: #D2E3FC;\n",
              "      --hover-bg-color: #434B5C;\n",
              "      --hover-fill-color: #FFFFFF;\n",
              "      --disabled-bg-color: #3B4455;\n",
              "      --disabled-fill-color: #666;\n",
              "  }\n",
              "\n",
              "  .colab-df-quickchart {\n",
              "    background-color: var(--bg-color);\n",
              "    border: none;\n",
              "    border-radius: 50%;\n",
              "    cursor: pointer;\n",
              "    display: none;\n",
              "    fill: var(--fill-color);\n",
              "    height: 32px;\n",
              "    padding: 0;\n",
              "    width: 32px;\n",
              "  }\n",
              "\n",
              "  .colab-df-quickchart:hover {\n",
              "    background-color: var(--hover-bg-color);\n",
              "    box-shadow: 0 1px 2px rgba(60, 64, 67, 0.3), 0 1px 3px 1px rgba(60, 64, 67, 0.15);\n",
              "    fill: var(--button-hover-fill-color);\n",
              "  }\n",
              "\n",
              "  .colab-df-quickchart-complete:disabled,\n",
              "  .colab-df-quickchart-complete:disabled:hover {\n",
              "    background-color: var(--disabled-bg-color);\n",
              "    fill: var(--disabled-fill-color);\n",
              "    box-shadow: none;\n",
              "  }\n",
              "\n",
              "  .colab-df-spinner {\n",
              "    border: 2px solid var(--fill-color);\n",
              "    border-color: transparent;\n",
              "    border-bottom-color: var(--fill-color);\n",
              "    animation:\n",
              "      spin 1s steps(1) infinite;\n",
              "  }\n",
              "\n",
              "  @keyframes spin {\n",
              "    0% {\n",
              "      border-color: transparent;\n",
              "      border-bottom-color: var(--fill-color);\n",
              "      border-left-color: var(--fill-color);\n",
              "    }\n",
              "    20% {\n",
              "      border-color: transparent;\n",
              "      border-left-color: var(--fill-color);\n",
              "      border-top-color: var(--fill-color);\n",
              "    }\n",
              "    30% {\n",
              "      border-color: transparent;\n",
              "      border-left-color: var(--fill-color);\n",
              "      border-top-color: var(--fill-color);\n",
              "      border-right-color: var(--fill-color);\n",
              "    }\n",
              "    40% {\n",
              "      border-color: transparent;\n",
              "      border-right-color: var(--fill-color);\n",
              "      border-top-color: var(--fill-color);\n",
              "    }\n",
              "    60% {\n",
              "      border-color: transparent;\n",
              "      border-right-color: var(--fill-color);\n",
              "    }\n",
              "    80% {\n",
              "      border-color: transparent;\n",
              "      border-right-color: var(--fill-color);\n",
              "      border-bottom-color: var(--fill-color);\n",
              "    }\n",
              "    90% {\n",
              "      border-color: transparent;\n",
              "      border-bottom-color: var(--fill-color);\n",
              "    }\n",
              "  }\n",
              "</style>\n",
              "\n",
              "  <script>\n",
              "    async function quickchart(key) {\n",
              "      const quickchartButtonEl =\n",
              "        document.querySelector('#' + key + ' button');\n",
              "      quickchartButtonEl.disabled = true;  // To prevent multiple clicks.\n",
              "      quickchartButtonEl.classList.add('colab-df-spinner');\n",
              "      try {\n",
              "        const charts = await google.colab.kernel.invokeFunction(\n",
              "            'suggestCharts', [key], {});\n",
              "      } catch (error) {\n",
              "        console.error('Error during call to suggestCharts:', error);\n",
              "      }\n",
              "      quickchartButtonEl.classList.remove('colab-df-spinner');\n",
              "      quickchartButtonEl.classList.add('colab-df-quickchart-complete');\n",
              "    }\n",
              "    (() => {\n",
              "      let quickchartButtonEl =\n",
              "        document.querySelector('#df-a68d56f0-38b3-45a2-82ec-be59700ccbe6 button');\n",
              "      quickchartButtonEl.style.display =\n",
              "        google.colab.kernel.accessAllowed ? 'block' : 'none';\n",
              "    })();\n",
              "  </script>\n",
              "</div>\n",
              "    </div>\n",
              "  </div>\n"
            ]
          },
          "metadata": {},
          "execution_count": 34
        }
      ],
      "source": [
        "# TODO 18 Based on the results of previous cell which columns will you apply SimpleImputer ?\n",
        "# Select only those columns here\n",
        "\n",
        "X_train_mean_impute = X_train.loc[:,['Glucose', 'BloodPressure', 'BMI', 'DiabetesPedigreeFunction', 'Age']]\n",
        "X_train_mean_impute"
      ]
    },
    {
      "cell_type": "code",
      "execution_count": null,
      "id": "28e10d44",
      "metadata": {
        "id": "28e10d44",
        "outputId": "8fc5104e-5ca0-45ca-e713-fa6c488eb20d",
        "colab": {
          "base_uri": "https://localhost:8080/"
        }
      },
      "outputs": [
        {
          "output_type": "execute_result",
          "data": {
            "text/plain": [
              "array([[1.17e+02, 9.60e+01, 2.87e+01, 1.57e-01, 3.00e+01],\n",
              "       [1.15e+02, 6.60e+01, 3.81e+01, 1.50e-01, 2.80e+01],\n",
              "       [1.30e+02, 6.00e+01, 2.86e+01, 6.92e-01, 2.10e+01],\n",
              "       [1.02e+02, 8.60e+01, 4.55e+01, 1.27e-01, 2.30e+01],\n",
              "       [8.80e+01, 5.80e+01, 2.84e+01, 7.66e-01, 2.20e+01]])"
            ]
          },
          "metadata": {},
          "execution_count": 37
        }
      ],
      "source": [
        "# TODO: 19 Apply SimpleImputer to appropriate columns only\n",
        "from sklearn.impute import SimpleImputer\n",
        "columns_to_impute_simple = ['Glucose', 'BloodPressure', 'BMI', 'DiabetesPedigreeFunction', 'Age']\n",
        "mean_imputer = SimpleImputer(strategy='mean')\n",
        "#Fill code above to create SimpleImputer\n",
        "\n",
        "X_train_mean_imputed = mean_imputer.fit_transform(X_train[columns_to_impute_simple])\n",
        "\n",
        "# Display first few\n",
        "X_train_mean_imputed[0:5,:]"
      ]
    },
    {
      "cell_type": "code",
      "execution_count": null,
      "id": "56fededd",
      "metadata": {
        "id": "56fededd",
        "outputId": "4193fc41-b2cc-44b8-c080-4ceb1909b351",
        "colab": {
          "base_uri": "https://localhost:8080/",
          "height": 423
        }
      },
      "outputs": [
        {
          "output_type": "execute_result",
          "data": {
            "text/plain": [
              "     SkinThickness  Insulin\n",
              "616            NaN      NaN\n",
              "318           39.0    140.0\n",
              "25            23.0    170.0\n",
              "328           36.0    120.0\n",
              "760           26.0     16.0\n",
              "..             ...      ...\n",
              "462           40.0     49.0\n",
              "390           29.0    196.0\n",
              "307           14.0    148.0\n",
              "636            NaN      NaN\n",
              "765           23.0    112.0\n",
              "\n",
              "[558 rows x 2 columns]"
            ],
            "text/html": [
              "\n",
              "  <div id=\"df-043c9913-f77a-46fc-9c9d-f1ae94fa26cb\" class=\"colab-df-container\">\n",
              "    <div>\n",
              "<style scoped>\n",
              "    .dataframe tbody tr th:only-of-type {\n",
              "        vertical-align: middle;\n",
              "    }\n",
              "\n",
              "    .dataframe tbody tr th {\n",
              "        vertical-align: top;\n",
              "    }\n",
              "\n",
              "    .dataframe thead th {\n",
              "        text-align: right;\n",
              "    }\n",
              "</style>\n",
              "<table border=\"1\" class=\"dataframe\">\n",
              "  <thead>\n",
              "    <tr style=\"text-align: right;\">\n",
              "      <th></th>\n",
              "      <th>SkinThickness</th>\n",
              "      <th>Insulin</th>\n",
              "    </tr>\n",
              "  </thead>\n",
              "  <tbody>\n",
              "    <tr>\n",
              "      <th>616</th>\n",
              "      <td>NaN</td>\n",
              "      <td>NaN</td>\n",
              "    </tr>\n",
              "    <tr>\n",
              "      <th>318</th>\n",
              "      <td>39.0</td>\n",
              "      <td>140.0</td>\n",
              "    </tr>\n",
              "    <tr>\n",
              "      <th>25</th>\n",
              "      <td>23.0</td>\n",
              "      <td>170.0</td>\n",
              "    </tr>\n",
              "    <tr>\n",
              "      <th>328</th>\n",
              "      <td>36.0</td>\n",
              "      <td>120.0</td>\n",
              "    </tr>\n",
              "    <tr>\n",
              "      <th>760</th>\n",
              "      <td>26.0</td>\n",
              "      <td>16.0</td>\n",
              "    </tr>\n",
              "    <tr>\n",
              "      <th>...</th>\n",
              "      <td>...</td>\n",
              "      <td>...</td>\n",
              "    </tr>\n",
              "    <tr>\n",
              "      <th>462</th>\n",
              "      <td>40.0</td>\n",
              "      <td>49.0</td>\n",
              "    </tr>\n",
              "    <tr>\n",
              "      <th>390</th>\n",
              "      <td>29.0</td>\n",
              "      <td>196.0</td>\n",
              "    </tr>\n",
              "    <tr>\n",
              "      <th>307</th>\n",
              "      <td>14.0</td>\n",
              "      <td>148.0</td>\n",
              "    </tr>\n",
              "    <tr>\n",
              "      <th>636</th>\n",
              "      <td>NaN</td>\n",
              "      <td>NaN</td>\n",
              "    </tr>\n",
              "    <tr>\n",
              "      <th>765</th>\n",
              "      <td>23.0</td>\n",
              "      <td>112.0</td>\n",
              "    </tr>\n",
              "  </tbody>\n",
              "</table>\n",
              "<p>558 rows × 2 columns</p>\n",
              "</div>\n",
              "    <div class=\"colab-df-buttons\">\n",
              "\n",
              "  <div class=\"colab-df-container\">\n",
              "    <button class=\"colab-df-convert\" onclick=\"convertToInteractive('df-043c9913-f77a-46fc-9c9d-f1ae94fa26cb')\"\n",
              "            title=\"Convert this dataframe to an interactive table.\"\n",
              "            style=\"display:none;\">\n",
              "\n",
              "  <svg xmlns=\"http://www.w3.org/2000/svg\" height=\"24px\" viewBox=\"0 -960 960 960\">\n",
              "    <path d=\"M120-120v-720h720v720H120Zm60-500h600v-160H180v160Zm220 220h160v-160H400v160Zm0 220h160v-160H400v160ZM180-400h160v-160H180v160Zm440 0h160v-160H620v160ZM180-180h160v-160H180v160Zm440 0h160v-160H620v160Z\"/>\n",
              "  </svg>\n",
              "    </button>\n",
              "\n",
              "  <style>\n",
              "    .colab-df-container {\n",
              "      display:flex;\n",
              "      gap: 12px;\n",
              "    }\n",
              "\n",
              "    .colab-df-convert {\n",
              "      background-color: #E8F0FE;\n",
              "      border: none;\n",
              "      border-radius: 50%;\n",
              "      cursor: pointer;\n",
              "      display: none;\n",
              "      fill: #1967D2;\n",
              "      height: 32px;\n",
              "      padding: 0 0 0 0;\n",
              "      width: 32px;\n",
              "    }\n",
              "\n",
              "    .colab-df-convert:hover {\n",
              "      background-color: #E2EBFA;\n",
              "      box-shadow: 0px 1px 2px rgba(60, 64, 67, 0.3), 0px 1px 3px 1px rgba(60, 64, 67, 0.15);\n",
              "      fill: #174EA6;\n",
              "    }\n",
              "\n",
              "    .colab-df-buttons div {\n",
              "      margin-bottom: 4px;\n",
              "    }\n",
              "\n",
              "    [theme=dark] .colab-df-convert {\n",
              "      background-color: #3B4455;\n",
              "      fill: #D2E3FC;\n",
              "    }\n",
              "\n",
              "    [theme=dark] .colab-df-convert:hover {\n",
              "      background-color: #434B5C;\n",
              "      box-shadow: 0px 1px 3px 1px rgba(0, 0, 0, 0.15);\n",
              "      filter: drop-shadow(0px 1px 2px rgba(0, 0, 0, 0.3));\n",
              "      fill: #FFFFFF;\n",
              "    }\n",
              "  </style>\n",
              "\n",
              "    <script>\n",
              "      const buttonEl =\n",
              "        document.querySelector('#df-043c9913-f77a-46fc-9c9d-f1ae94fa26cb button.colab-df-convert');\n",
              "      buttonEl.style.display =\n",
              "        google.colab.kernel.accessAllowed ? 'block' : 'none';\n",
              "\n",
              "      async function convertToInteractive(key) {\n",
              "        const element = document.querySelector('#df-043c9913-f77a-46fc-9c9d-f1ae94fa26cb');\n",
              "        const dataTable =\n",
              "          await google.colab.kernel.invokeFunction('convertToInteractive',\n",
              "                                                    [key], {});\n",
              "        if (!dataTable) return;\n",
              "\n",
              "        const docLinkHtml = 'Like what you see? Visit the ' +\n",
              "          '<a target=\"_blank\" href=https://colab.research.google.com/notebooks/data_table.ipynb>data table notebook</a>'\n",
              "          + ' to learn more about interactive tables.';\n",
              "        element.innerHTML = '';\n",
              "        dataTable['output_type'] = 'display_data';\n",
              "        await google.colab.output.renderOutput(dataTable, element);\n",
              "        const docLink = document.createElement('div');\n",
              "        docLink.innerHTML = docLinkHtml;\n",
              "        element.appendChild(docLink);\n",
              "      }\n",
              "    </script>\n",
              "  </div>\n",
              "\n",
              "\n",
              "<div id=\"df-32d9408b-4dad-4b4f-8eb9-15a7aeabcd4c\">\n",
              "  <button class=\"colab-df-quickchart\" onclick=\"quickchart('df-32d9408b-4dad-4b4f-8eb9-15a7aeabcd4c')\"\n",
              "            title=\"Suggest charts.\"\n",
              "            style=\"display:none;\">\n",
              "\n",
              "<svg xmlns=\"http://www.w3.org/2000/svg\" height=\"24px\"viewBox=\"0 0 24 24\"\n",
              "     width=\"24px\">\n",
              "    <g>\n",
              "        <path d=\"M19 3H5c-1.1 0-2 .9-2 2v14c0 1.1.9 2 2 2h14c1.1 0 2-.9 2-2V5c0-1.1-.9-2-2-2zM9 17H7v-7h2v7zm4 0h-2V7h2v10zm4 0h-2v-4h2v4z\"/>\n",
              "    </g>\n",
              "</svg>\n",
              "  </button>\n",
              "\n",
              "<style>\n",
              "  .colab-df-quickchart {\n",
              "      --bg-color: #E8F0FE;\n",
              "      --fill-color: #1967D2;\n",
              "      --hover-bg-color: #E2EBFA;\n",
              "      --hover-fill-color: #174EA6;\n",
              "      --disabled-fill-color: #AAA;\n",
              "      --disabled-bg-color: #DDD;\n",
              "  }\n",
              "\n",
              "  [theme=dark] .colab-df-quickchart {\n",
              "      --bg-color: #3B4455;\n",
              "      --fill-color: #D2E3FC;\n",
              "      --hover-bg-color: #434B5C;\n",
              "      --hover-fill-color: #FFFFFF;\n",
              "      --disabled-bg-color: #3B4455;\n",
              "      --disabled-fill-color: #666;\n",
              "  }\n",
              "\n",
              "  .colab-df-quickchart {\n",
              "    background-color: var(--bg-color);\n",
              "    border: none;\n",
              "    border-radius: 50%;\n",
              "    cursor: pointer;\n",
              "    display: none;\n",
              "    fill: var(--fill-color);\n",
              "    height: 32px;\n",
              "    padding: 0;\n",
              "    width: 32px;\n",
              "  }\n",
              "\n",
              "  .colab-df-quickchart:hover {\n",
              "    background-color: var(--hover-bg-color);\n",
              "    box-shadow: 0 1px 2px rgba(60, 64, 67, 0.3), 0 1px 3px 1px rgba(60, 64, 67, 0.15);\n",
              "    fill: var(--button-hover-fill-color);\n",
              "  }\n",
              "\n",
              "  .colab-df-quickchart-complete:disabled,\n",
              "  .colab-df-quickchart-complete:disabled:hover {\n",
              "    background-color: var(--disabled-bg-color);\n",
              "    fill: var(--disabled-fill-color);\n",
              "    box-shadow: none;\n",
              "  }\n",
              "\n",
              "  .colab-df-spinner {\n",
              "    border: 2px solid var(--fill-color);\n",
              "    border-color: transparent;\n",
              "    border-bottom-color: var(--fill-color);\n",
              "    animation:\n",
              "      spin 1s steps(1) infinite;\n",
              "  }\n",
              "\n",
              "  @keyframes spin {\n",
              "    0% {\n",
              "      border-color: transparent;\n",
              "      border-bottom-color: var(--fill-color);\n",
              "      border-left-color: var(--fill-color);\n",
              "    }\n",
              "    20% {\n",
              "      border-color: transparent;\n",
              "      border-left-color: var(--fill-color);\n",
              "      border-top-color: var(--fill-color);\n",
              "    }\n",
              "    30% {\n",
              "      border-color: transparent;\n",
              "      border-left-color: var(--fill-color);\n",
              "      border-top-color: var(--fill-color);\n",
              "      border-right-color: var(--fill-color);\n",
              "    }\n",
              "    40% {\n",
              "      border-color: transparent;\n",
              "      border-right-color: var(--fill-color);\n",
              "      border-top-color: var(--fill-color);\n",
              "    }\n",
              "    60% {\n",
              "      border-color: transparent;\n",
              "      border-right-color: var(--fill-color);\n",
              "    }\n",
              "    80% {\n",
              "      border-color: transparent;\n",
              "      border-right-color: var(--fill-color);\n",
              "      border-bottom-color: var(--fill-color);\n",
              "    }\n",
              "    90% {\n",
              "      border-color: transparent;\n",
              "      border-bottom-color: var(--fill-color);\n",
              "    }\n",
              "  }\n",
              "</style>\n",
              "\n",
              "  <script>\n",
              "    async function quickchart(key) {\n",
              "      const quickchartButtonEl =\n",
              "        document.querySelector('#' + key + ' button');\n",
              "      quickchartButtonEl.disabled = true;  // To prevent multiple clicks.\n",
              "      quickchartButtonEl.classList.add('colab-df-spinner');\n",
              "      try {\n",
              "        const charts = await google.colab.kernel.invokeFunction(\n",
              "            'suggestCharts', [key], {});\n",
              "      } catch (error) {\n",
              "        console.error('Error during call to suggestCharts:', error);\n",
              "      }\n",
              "      quickchartButtonEl.classList.remove('colab-df-spinner');\n",
              "      quickchartButtonEl.classList.add('colab-df-quickchart-complete');\n",
              "    }\n",
              "    (() => {\n",
              "      let quickchartButtonEl =\n",
              "        document.querySelector('#df-32d9408b-4dad-4b4f-8eb9-15a7aeabcd4c button');\n",
              "      quickchartButtonEl.style.display =\n",
              "        google.colab.kernel.accessAllowed ? 'block' : 'none';\n",
              "    })();\n",
              "  </script>\n",
              "</div>\n",
              "    </div>\n",
              "  </div>\n"
            ]
          },
          "metadata": {},
          "execution_count": 39
        }
      ],
      "source": [
        "# TODO: 20 Which columns will you apply IterativeImputer ?\n",
        "# Name those columns and provide 2 line short reason\n",
        "# ____SkinThickness and Insulin : These columns have a substantial number of NaN values, which suggests that IterativeImputer might be a suitable choice for imputing missing values in these columns._____________________\n",
        "\n",
        "X_train.loc[:,['SkinThickness','Insulin']]"
      ]
    },
    {
      "cell_type": "markdown",
      "id": "995fb3c8",
      "metadata": {
        "id": "995fb3c8"
      },
      "source": [
        "Iterative Imputer uses all non null features of the dataset to impute. To apply Iteratative Imputer on the two columns identified above, you should have all other features combined into the dataframe or numpy nmatrix first.\n",
        "\n",
        "You should do the following for that\n",
        "1. Remove the columns of the dataframe that were subjected to mean imputation\n",
        "2. Convert the remaining dataframe into numpy matrix\n",
        "3. Combine the above numpy matrix with mean imputed columns earlier. The \"combining\" two matrices is achieved by concatenating those two numpy matrices - by using an appropriate numpy stacking function\n",
        "4. The stacked numpy matrix is then used for iterative imputation"
      ]
    },
    {
      "cell_type": "code",
      "execution_count": null,
      "id": "185a534d",
      "metadata": {
        "id": "185a534d",
        "outputId": "eb064907-1516-46dc-9a3c-241c27970b07",
        "colab": {
          "base_uri": "https://localhost:8080/"
        }
      },
      "outputs": [
        {
          "output_type": "execute_result",
          "data": {
            "text/plain": [
              "array([[  6.,  nan,  nan],\n",
              "       [  3.,  39., 140.],\n",
              "       [  1.,  23., 170.],\n",
              "       ...,\n",
              "       [  0.,  14., 148.],\n",
              "       [  5.,  nan,  nan],\n",
              "       [  5.,  23., 112.]])"
            ]
          },
          "metadata": {},
          "execution_count": 40
        }
      ],
      "source": [
        "# TODO: 21 Remove the columns of X_train dataframe that were already subjected to mean imputation\n",
        "# Hold on to the rest as a Numpy matrix\n",
        "X_train_set_aside = X_train.drop(['Glucose', 'BloodPressure', 'BMI', 'DiabetesPedigreeFunction', 'Age'], axis=1).to_numpy()\n",
        "X_train_set_aside"
      ]
    },
    {
      "cell_type": "code",
      "execution_count": null,
      "id": "f8e48dc7",
      "metadata": {
        "id": "f8e48dc7",
        "outputId": "231528ea-7226-4735-cc5c-39158cb6a6f8",
        "colab": {
          "base_uri": "https://localhost:8080/"
        }
      },
      "outputs": [
        {
          "output_type": "execute_result",
          "data": {
            "text/plain": [
              "array(['X_train_set_aside', 'X_train_iterative_impute'], dtype='<U24')"
            ]
          },
          "metadata": {},
          "execution_count": 42
        }
      ],
      "source": [
        "# TODO: 22 Concatenate the two numpy matrices by using an appropriate numpy stacking function\n",
        "# Identify which are those two numpy matrices first and use them\n",
        "\n",
        "X_train = np.hstack(('X_train_set_aside','X_train_iterative_impute')) # this numpy matrix will be the new X_train from prediction\n",
        "X_train"
      ]
    },
    {
      "cell_type": "code",
      "execution_count": null,
      "id": "18a4ae6f",
      "metadata": {
        "id": "18a4ae6f",
        "outputId": "1756700d-5acb-4d77-c94d-633112b3f6e3",
        "colab": {
          "base_uri": "https://localhost:8080/"
        }
      },
      "outputs": [
        {
          "output_type": "execute_result",
          "data": {
            "text/plain": [
              "array([[  6.        ,  29.37594658, 154.06139065],\n",
              "       [  3.        ,  39.        , 140.        ],\n",
              "       [  1.        ,  23.        , 170.        ],\n",
              "       ...,\n",
              "       [  0.        ,  14.        , 148.        ],\n",
              "       [  5.        ,  29.35544024, 152.94646572],\n",
              "       [  5.        ,  23.        , 112.        ]])"
            ]
          },
          "metadata": {},
          "execution_count": 45
        }
      ],
      "source": [
        "# TODO: 23 Perform Iterative Imputation on two columns with Nan data\n",
        "# At this point only two columns will have Nan - SkinThickness and Insulin\n",
        "# Those 2 will be imputed using all other columns\n",
        "# But to make life easy, this is equivalent to performing Iterative Imputation using all other columns\n",
        "from sklearn.experimental import enable_iterative_imputer\n",
        "from sklearn.impute import IterativeImputer\n",
        "\n",
        "#Add IterativeImputer here and fit and transform appropriate columns\n",
        "# Create an IterativeImputer\n",
        "iterative_imputer = IterativeImputer(random_state=0)\n",
        "\n",
        "# Fit and transform the imputer on X_train_set_aside\n",
        "X_train_iter_imputed = iterative_imputer.fit_transform(X_train_set_aside)\n",
        "\n",
        "X_train_iter_imputed# this variable should hold your imputer values"
      ]
    },
    {
      "cell_type": "code",
      "execution_count": null,
      "id": "83d54b3f",
      "metadata": {
        "id": "83d54b3f",
        "outputId": "1ae4c369-32de-4afb-effd-c34793e43939",
        "colab": {
          "base_uri": "https://localhost:8080/"
        }
      },
      "outputs": [
        {
          "output_type": "execute_result",
          "data": {
            "text/plain": [
              "array([[ 0.70832354,  0.00485711,  0.03237873],\n",
              "       [-0.20942693,  0.98936521, -0.14398698],\n",
              "       [-0.82126057, -0.64738066,  0.23228954],\n",
              "       ...,\n",
              "       [-1.1271774 , -1.56805021, -0.04364657],\n",
              "       [ 0.40240672,  0.00275938,  0.01839473],\n",
              "       [ 0.40240672, -0.64738066, -0.49517839]])"
            ]
          },
          "metadata": {},
          "execution_count": 46
        }
      ],
      "source": [
        "# TODO: 24 Fill the question marks to do z transform\n",
        "\n",
        "from sklearn.preprocessing import StandardScaler\n",
        "\n",
        "scaler = StandardScaler()\n",
        "X_train_scaled = scaler.fit_transform(X_train_iter_imputed)\n",
        "X_train_scaled"
      ]
    },
    {
      "cell_type": "code",
      "execution_count": null,
      "id": "35dafbf6",
      "metadata": {
        "id": "35dafbf6",
        "outputId": "7ee2c299-2e1c-43e9-dc03-f9c1c074bbbd",
        "colab": {
          "base_uri": "https://localhost:8080/",
          "height": 74
        }
      },
      "outputs": [
        {
          "output_type": "execute_result",
          "data": {
            "text/plain": [
              "KNeighborsClassifier()"
            ],
            "text/html": [
              "<style>#sk-container-id-1 {color: black;background-color: white;}#sk-container-id-1 pre{padding: 0;}#sk-container-id-1 div.sk-toggleable {background-color: white;}#sk-container-id-1 label.sk-toggleable__label {cursor: pointer;display: block;width: 100%;margin-bottom: 0;padding: 0.3em;box-sizing: border-box;text-align: center;}#sk-container-id-1 label.sk-toggleable__label-arrow:before {content: \"▸\";float: left;margin-right: 0.25em;color: #696969;}#sk-container-id-1 label.sk-toggleable__label-arrow:hover:before {color: black;}#sk-container-id-1 div.sk-estimator:hover label.sk-toggleable__label-arrow:before {color: black;}#sk-container-id-1 div.sk-toggleable__content {max-height: 0;max-width: 0;overflow: hidden;text-align: left;background-color: #f0f8ff;}#sk-container-id-1 div.sk-toggleable__content pre {margin: 0.2em;color: black;border-radius: 0.25em;background-color: #f0f8ff;}#sk-container-id-1 input.sk-toggleable__control:checked~div.sk-toggleable__content {max-height: 200px;max-width: 100%;overflow: auto;}#sk-container-id-1 input.sk-toggleable__control:checked~label.sk-toggleable__label-arrow:before {content: \"▾\";}#sk-container-id-1 div.sk-estimator input.sk-toggleable__control:checked~label.sk-toggleable__label {background-color: #d4ebff;}#sk-container-id-1 div.sk-label input.sk-toggleable__control:checked~label.sk-toggleable__label {background-color: #d4ebff;}#sk-container-id-1 input.sk-hidden--visually {border: 0;clip: rect(1px 1px 1px 1px);clip: rect(1px, 1px, 1px, 1px);height: 1px;margin: -1px;overflow: hidden;padding: 0;position: absolute;width: 1px;}#sk-container-id-1 div.sk-estimator {font-family: monospace;background-color: #f0f8ff;border: 1px dotted black;border-radius: 0.25em;box-sizing: border-box;margin-bottom: 0.5em;}#sk-container-id-1 div.sk-estimator:hover {background-color: #d4ebff;}#sk-container-id-1 div.sk-parallel-item::after {content: \"\";width: 100%;border-bottom: 1px solid gray;flex-grow: 1;}#sk-container-id-1 div.sk-label:hover label.sk-toggleable__label {background-color: #d4ebff;}#sk-container-id-1 div.sk-serial::before {content: \"\";position: absolute;border-left: 1px solid gray;box-sizing: border-box;top: 0;bottom: 0;left: 50%;z-index: 0;}#sk-container-id-1 div.sk-serial {display: flex;flex-direction: column;align-items: center;background-color: white;padding-right: 0.2em;padding-left: 0.2em;position: relative;}#sk-container-id-1 div.sk-item {position: relative;z-index: 1;}#sk-container-id-1 div.sk-parallel {display: flex;align-items: stretch;justify-content: center;background-color: white;position: relative;}#sk-container-id-1 div.sk-item::before, #sk-container-id-1 div.sk-parallel-item::before {content: \"\";position: absolute;border-left: 1px solid gray;box-sizing: border-box;top: 0;bottom: 0;left: 50%;z-index: -1;}#sk-container-id-1 div.sk-parallel-item {display: flex;flex-direction: column;z-index: 1;position: relative;background-color: white;}#sk-container-id-1 div.sk-parallel-item:first-child::after {align-self: flex-end;width: 50%;}#sk-container-id-1 div.sk-parallel-item:last-child::after {align-self: flex-start;width: 50%;}#sk-container-id-1 div.sk-parallel-item:only-child::after {width: 0;}#sk-container-id-1 div.sk-dashed-wrapped {border: 1px dashed gray;margin: 0 0.4em 0.5em 0.4em;box-sizing: border-box;padding-bottom: 0.4em;background-color: white;}#sk-container-id-1 div.sk-label label {font-family: monospace;font-weight: bold;display: inline-block;line-height: 1.2em;}#sk-container-id-1 div.sk-label-container {text-align: center;}#sk-container-id-1 div.sk-container {/* jupyter's `normalize.less` sets `[hidden] { display: none; }` but bootstrap.min.css set `[hidden] { display: none !important; }` so we also need the `!important` here to be able to override the default hidden behavior on the sphinx rendered scikit-learn.org. See: https://github.com/scikit-learn/scikit-learn/issues/21755 */display: inline-block !important;position: relative;}#sk-container-id-1 div.sk-text-repr-fallback {display: none;}</style><div id=\"sk-container-id-1\" class=\"sk-top-container\"><div class=\"sk-text-repr-fallback\"><pre>KNeighborsClassifier()</pre><b>In a Jupyter environment, please rerun this cell to show the HTML representation or trust the notebook. <br />On GitHub, the HTML representation is unable to render, please try loading this page with nbviewer.org.</b></div><div class=\"sk-container\" hidden><div class=\"sk-item\"><div class=\"sk-estimator sk-toggleable\"><input class=\"sk-toggleable__control sk-hidden--visually\" id=\"sk-estimator-id-1\" type=\"checkbox\" checked><label for=\"sk-estimator-id-1\" class=\"sk-toggleable__label sk-toggleable__label-arrow\">KNeighborsClassifier</label><div class=\"sk-toggleable__content\"><pre>KNeighborsClassifier()</pre></div></div></div></div></div>"
            ]
          },
          "metadata": {},
          "execution_count": 47
        }
      ],
      "source": [
        "# TODO: 25 Train the KNN model in this cell\n",
        "\n",
        "from sklearn.neighbors import KNeighborsClassifier\n",
        "\n",
        "model = KNeighborsClassifier(n_neighbors=5)\n",
        "model.fit(X_train_scaled, y_train)"
      ]
    },
    {
      "cell_type": "code",
      "execution_count": null,
      "id": "6f5a2f53",
      "metadata": {
        "id": "6f5a2f53"
      },
      "outputs": [],
      "source": [
        "# TODO: 26  Perform all necessary transformation on X_test in this cell to prepare it for predict()\n",
        "# look at all the transformation logic that was performed on X_train and repeat it for X_test here\n",
        "# Put your code here. No template is provided for this section\n",
        "# Assuming X_test is your test data\n",
        "\n",
        "# Drop the columns that were subjected to mean imputation\n",
        "X_test_set_aside = X_test.drop(['Glucose', 'BloodPressure', 'BMI', 'DiabetesPedigreeFunction', 'Age'], axis=1)\n",
        "\n",
        "# Remove rows with NaN values\n",
        "X_test_set_aside = X_test_set_aside.dropna()\n",
        "\n",
        "# Perform z-score normalization on X_test using the same scaler that was used on X_train\n",
        "X_test_scaled = scaler.transform(X_test_set_aside)\n",
        "\n",
        "# Now X_test_scaled is ready for predictions\n",
        "\n"
      ]
    },
    {
      "cell_type": "code",
      "source": [
        "from sklearn.metrics import accuracy_score\n",
        "\n",
        "# Do prediction using the KNN model\n",
        "y_pred = model.predict(X_test_scaled)\n",
        "\n",
        "# Calculate and display the accuracy\n",
        "accuracy = accuracy_score(y_true=y_test, y_pred=y_pred)\n",
        "accuracy"
      ],
      "metadata": {
        "id": "6Ncv5Cr-X0QK",
        "outputId": "8774b0bc-6aa5-4133-8281-2cb5db2f93e0",
        "colab": {
          "base_uri": "https://localhost:8080/",
          "height": 373
        }
      },
      "id": "6Ncv5Cr-X0QK",
      "execution_count": null,
      "outputs": [
        {
          "output_type": "error",
          "ename": "ValueError",
          "evalue": "ignored",
          "traceback": [
            "\u001b[0;31m---------------------------------------------------------------------------\u001b[0m",
            "\u001b[0;31mValueError\u001b[0m                                Traceback (most recent call last)",
            "\u001b[0;32m<ipython-input-67-3bdc0992167e>\u001b[0m in \u001b[0;36m<cell line: 7>\u001b[0;34m()\u001b[0m\n\u001b[1;32m      5\u001b[0m \u001b[0;34m\u001b[0m\u001b[0m\n\u001b[1;32m      6\u001b[0m \u001b[0;31m# Calculate and display the accuracy\u001b[0m\u001b[0;34m\u001b[0m\u001b[0;34m\u001b[0m\u001b[0m\n\u001b[0;32m----> 7\u001b[0;31m \u001b[0maccuracy\u001b[0m \u001b[0;34m=\u001b[0m \u001b[0maccuracy_score\u001b[0m\u001b[0;34m(\u001b[0m\u001b[0my_true\u001b[0m\u001b[0;34m=\u001b[0m\u001b[0my_test\u001b[0m\u001b[0;34m,\u001b[0m \u001b[0my_pred\u001b[0m\u001b[0;34m=\u001b[0m\u001b[0my_pred\u001b[0m\u001b[0;34m)\u001b[0m\u001b[0;34m\u001b[0m\u001b[0;34m\u001b[0m\u001b[0m\n\u001b[0m\u001b[1;32m      8\u001b[0m \u001b[0maccuracy\u001b[0m\u001b[0;34m\u001b[0m\u001b[0;34m\u001b[0m\u001b[0m\n",
            "\u001b[0;32m/usr/local/lib/python3.10/dist-packages/sklearn/utils/_param_validation.py\u001b[0m in \u001b[0;36mwrapper\u001b[0;34m(*args, **kwargs)\u001b[0m\n\u001b[1;32m    190\u001b[0m \u001b[0;34m\u001b[0m\u001b[0m\n\u001b[1;32m    191\u001b[0m             \u001b[0;32mtry\u001b[0m\u001b[0;34m:\u001b[0m\u001b[0;34m\u001b[0m\u001b[0;34m\u001b[0m\u001b[0m\n\u001b[0;32m--> 192\u001b[0;31m                 \u001b[0;32mreturn\u001b[0m \u001b[0mfunc\u001b[0m\u001b[0;34m(\u001b[0m\u001b[0;34m*\u001b[0m\u001b[0margs\u001b[0m\u001b[0;34m,\u001b[0m \u001b[0;34m**\u001b[0m\u001b[0mkwargs\u001b[0m\u001b[0;34m)\u001b[0m\u001b[0;34m\u001b[0m\u001b[0;34m\u001b[0m\u001b[0m\n\u001b[0m\u001b[1;32m    193\u001b[0m             \u001b[0;32mexcept\u001b[0m \u001b[0mInvalidParameterError\u001b[0m \u001b[0;32mas\u001b[0m \u001b[0me\u001b[0m\u001b[0;34m:\u001b[0m\u001b[0;34m\u001b[0m\u001b[0;34m\u001b[0m\u001b[0m\n\u001b[1;32m    194\u001b[0m                 \u001b[0;31m# When the function is just a wrapper around an estimator, we allow\u001b[0m\u001b[0;34m\u001b[0m\u001b[0;34m\u001b[0m\u001b[0m\n",
            "\u001b[0;32m/usr/local/lib/python3.10/dist-packages/sklearn/metrics/_classification.py\u001b[0m in \u001b[0;36maccuracy_score\u001b[0;34m(y_true, y_pred, normalize, sample_weight)\u001b[0m\n\u001b[1;32m    219\u001b[0m \u001b[0;34m\u001b[0m\u001b[0m\n\u001b[1;32m    220\u001b[0m     \u001b[0;31m# Compute accuracy for each possible representation\u001b[0m\u001b[0;34m\u001b[0m\u001b[0;34m\u001b[0m\u001b[0m\n\u001b[0;32m--> 221\u001b[0;31m     \u001b[0my_type\u001b[0m\u001b[0;34m,\u001b[0m \u001b[0my_true\u001b[0m\u001b[0;34m,\u001b[0m \u001b[0my_pred\u001b[0m \u001b[0;34m=\u001b[0m \u001b[0m_check_targets\u001b[0m\u001b[0;34m(\u001b[0m\u001b[0my_true\u001b[0m\u001b[0;34m,\u001b[0m \u001b[0my_pred\u001b[0m\u001b[0;34m)\u001b[0m\u001b[0;34m\u001b[0m\u001b[0;34m\u001b[0m\u001b[0m\n\u001b[0m\u001b[1;32m    222\u001b[0m     \u001b[0mcheck_consistent_length\u001b[0m\u001b[0;34m(\u001b[0m\u001b[0my_true\u001b[0m\u001b[0;34m,\u001b[0m \u001b[0my_pred\u001b[0m\u001b[0;34m,\u001b[0m \u001b[0msample_weight\u001b[0m\u001b[0;34m)\u001b[0m\u001b[0;34m\u001b[0m\u001b[0;34m\u001b[0m\u001b[0m\n\u001b[1;32m    223\u001b[0m     \u001b[0;32mif\u001b[0m \u001b[0my_type\u001b[0m\u001b[0;34m.\u001b[0m\u001b[0mstartswith\u001b[0m\u001b[0;34m(\u001b[0m\u001b[0;34m\"multilabel\"\u001b[0m\u001b[0;34m)\u001b[0m\u001b[0;34m:\u001b[0m\u001b[0;34m\u001b[0m\u001b[0;34m\u001b[0m\u001b[0m\n",
            "\u001b[0;32m/usr/local/lib/python3.10/dist-packages/sklearn/metrics/_classification.py\u001b[0m in \u001b[0;36m_check_targets\u001b[0;34m(y_true, y_pred)\u001b[0m\n\u001b[1;32m     84\u001b[0m     \u001b[0my_pred\u001b[0m \u001b[0;34m:\u001b[0m \u001b[0marray\u001b[0m \u001b[0;32mor\u001b[0m \u001b[0mindicator\u001b[0m \u001b[0mmatrix\u001b[0m\u001b[0;34m\u001b[0m\u001b[0;34m\u001b[0m\u001b[0m\n\u001b[1;32m     85\u001b[0m     \"\"\"\n\u001b[0;32m---> 86\u001b[0;31m     \u001b[0mcheck_consistent_length\u001b[0m\u001b[0;34m(\u001b[0m\u001b[0my_true\u001b[0m\u001b[0;34m,\u001b[0m \u001b[0my_pred\u001b[0m\u001b[0;34m)\u001b[0m\u001b[0;34m\u001b[0m\u001b[0;34m\u001b[0m\u001b[0m\n\u001b[0m\u001b[1;32m     87\u001b[0m     \u001b[0mtype_true\u001b[0m \u001b[0;34m=\u001b[0m \u001b[0mtype_of_target\u001b[0m\u001b[0;34m(\u001b[0m\u001b[0my_true\u001b[0m\u001b[0;34m,\u001b[0m \u001b[0minput_name\u001b[0m\u001b[0;34m=\u001b[0m\u001b[0;34m\"y_true\"\u001b[0m\u001b[0;34m)\u001b[0m\u001b[0;34m\u001b[0m\u001b[0;34m\u001b[0m\u001b[0m\n\u001b[1;32m     88\u001b[0m     \u001b[0mtype_pred\u001b[0m \u001b[0;34m=\u001b[0m \u001b[0mtype_of_target\u001b[0m\u001b[0;34m(\u001b[0m\u001b[0my_pred\u001b[0m\u001b[0;34m,\u001b[0m \u001b[0minput_name\u001b[0m\u001b[0;34m=\u001b[0m\u001b[0;34m\"y_pred\"\u001b[0m\u001b[0;34m)\u001b[0m\u001b[0;34m\u001b[0m\u001b[0;34m\u001b[0m\u001b[0m\n",
            "\u001b[0;32m/usr/local/lib/python3.10/dist-packages/sklearn/utils/validation.py\u001b[0m in \u001b[0;36mcheck_consistent_length\u001b[0;34m(*arrays)\u001b[0m\n\u001b[1;32m    395\u001b[0m     \u001b[0muniques\u001b[0m \u001b[0;34m=\u001b[0m \u001b[0mnp\u001b[0m\u001b[0;34m.\u001b[0m\u001b[0munique\u001b[0m\u001b[0;34m(\u001b[0m\u001b[0mlengths\u001b[0m\u001b[0;34m)\u001b[0m\u001b[0;34m\u001b[0m\u001b[0;34m\u001b[0m\u001b[0m\n\u001b[1;32m    396\u001b[0m     \u001b[0;32mif\u001b[0m \u001b[0mlen\u001b[0m\u001b[0;34m(\u001b[0m\u001b[0muniques\u001b[0m\u001b[0;34m)\u001b[0m \u001b[0;34m>\u001b[0m \u001b[0;36m1\u001b[0m\u001b[0;34m:\u001b[0m\u001b[0;34m\u001b[0m\u001b[0;34m\u001b[0m\u001b[0m\n\u001b[0;32m--> 397\u001b[0;31m         raise ValueError(\n\u001b[0m\u001b[1;32m    398\u001b[0m             \u001b[0;34m\"Found input variables with inconsistent numbers of samples: %r\"\u001b[0m\u001b[0;34m\u001b[0m\u001b[0;34m\u001b[0m\u001b[0m\n\u001b[1;32m    399\u001b[0m             \u001b[0;34m%\u001b[0m \u001b[0;34m[\u001b[0m\u001b[0mint\u001b[0m\u001b[0;34m(\u001b[0m\u001b[0ml\u001b[0m\u001b[0;34m)\u001b[0m \u001b[0;32mfor\u001b[0m \u001b[0ml\u001b[0m \u001b[0;32min\u001b[0m \u001b[0mlengths\u001b[0m\u001b[0;34m]\u001b[0m\u001b[0;34m\u001b[0m\u001b[0;34m\u001b[0m\u001b[0m\n",
            "\u001b[0;31mValueError\u001b[0m: Found input variables with inconsistent numbers of samples: [186, 94]"
          ]
        }
      ]
    },
    {
      "cell_type": "markdown",
      "id": "b8bad42d",
      "metadata": {
        "id": "b8bad42d"
      },
      "source": [
        "# Part 2: Data processing and prediction using a pipeline"
      ]
    },
    {
      "cell_type": "code",
      "execution_count": null,
      "id": "d179087c",
      "metadata": {
        "id": "d179087c"
      },
      "outputs": [],
      "source": [
        "# TODO: 28 Repeat activities that need to be done outside pipeline\n",
        "# Reading csv, dropping duplicates & other steps that you might have performed - but need to be done outside the pipeline now\n",
        "\n",
        "df = pd.read_csv('d2.csv')\n",
        "\n",
        "# Check for and drop duplicate rows\n",
        "df.drop_duplicates(inplace=True)\n",
        "\n",
        "# Now you can proceed with building and fitting your machine learning pipeline.\n",
        "#Add other code for dropping duplicates etc"
      ]
    },
    {
      "cell_type": "code",
      "execution_count": null,
      "id": "06c58185",
      "metadata": {
        "id": "06c58185"
      },
      "outputs": [],
      "source": [
        "# TODO: 29 Split the data into X and y. Then do train test split here\n",
        "\n",
        "y = df.pop(\"Outcome\")\n",
        "X = df\n",
        "\n",
        "X_train, X_test, y_train, y_test = train_test_split(X, y, test_size=0.25, random_state=0)"
      ]
    },
    {
      "cell_type": "markdown",
      "id": "754a1451",
      "metadata": {
        "id": "754a1451"
      },
      "source": [
        "Design a pipeline that looks like following:\n",
        "\n",
        "![Pipeline](https://onedrive.live.com/embed?resid=A5A4158EF1352FCB%211956&authkey=%21AAa4xv7U8X35D44&width=550)\n",
        "\n",
        "1. SimpleImputer performs mean imputation only on the relevant columns\n",
        "2. IdentityTransformer (whose code is given below) is a custom sklearn transformer that performs no operation on the input data. Input data is passed through as is\n",
        "3. The two are wrapped within a ColumnTransformer\n",
        "4. This is followed by sequential execution of IterativeImputer, StandaScaler and the KNN based clasifier"
      ]
    },
    {
      "cell_type": "code",
      "execution_count": null,
      "id": "2193171f",
      "metadata": {
        "id": "2193171f"
      },
      "outputs": [],
      "source": [
        "# This is a No-op transformer. Use this as is\n",
        "from sklearn.base import BaseEstimator, TransformerMixin\n",
        "\n",
        "class IdentityTransformer(BaseEstimator, TransformerMixin):\n",
        "    def __init__(self):\n",
        "        pass\n",
        "\n",
        "    def fit(self, X, y=None):\n",
        "        return self\n",
        "\n",
        "    def transform(self, X, y=None):\n",
        "        return X*1"
      ]
    },
    {
      "cell_type": "markdown",
      "id": "e10f98d8",
      "metadata": {
        "id": "e10f98d8"
      },
      "source": [
        "Look at the columns of the dataframe and decide which ones need to go to SimpleImputer and which ones should go to IdentityTransformer"
      ]
    },
    {
      "cell_type": "code",
      "execution_count": null,
      "id": "d87b1028",
      "metadata": {
        "id": "d87b1028",
        "outputId": "c5fca2d0-fe49-402f-bd17-141f7b98d62d",
        "colab": {
          "base_uri": "https://localhost:8080/"
        }
      },
      "outputs": [
        {
          "output_type": "execute_result",
          "data": {
            "text/plain": [
              "Index(['Pregnancies', 'Glucose', 'BloodPressure', 'SkinThickness', 'Insulin',\n",
              "       'BMI', 'DiabetesPedigreeFunction', 'Age'],\n",
              "      dtype='object')"
            ]
          },
          "metadata": {},
          "execution_count": 78
        }
      ],
      "source": [
        "df.columns"
      ]
    },
    {
      "cell_type": "code",
      "execution_count": null,
      "id": "3ecccade",
      "metadata": {
        "id": "3ecccade",
        "outputId": "8a0581dd-c92c-4f5a-c3e9-4db78a36001a",
        "colab": {
          "base_uri": "https://localhost:8080/"
        }
      },
      "outputs": [
        {
          "output_type": "execute_result",
          "data": {
            "text/plain": [
              "['Pregnancies', 'Glucose', 'BloodPressure']"
            ]
          },
          "metadata": {},
          "execution_count": 80
        }
      ],
      "source": [
        "# TODO: 30 Select the columns for mean imputation\n",
        "# Do not type the names directly. Use indices\n",
        "mean_impute_cols = df.columns[[0, 1, 2]].to_list()\n",
        "mean_impute_cols"
      ]
    },
    {
      "cell_type": "code",
      "execution_count": null,
      "id": "0813cbf4",
      "metadata": {
        "id": "0813cbf4",
        "outputId": "0ae5c316-2242-422f-c1c8-0622c8afab43",
        "colab": {
          "base_uri": "https://localhost:8080/"
        }
      },
      "outputs": [
        {
          "output_type": "execute_result",
          "data": {
            "text/plain": [
              "array([ True,  True,  True, False, False, False, False, False])"
            ]
          },
          "metadata": {},
          "execution_count": 81
        }
      ],
      "source": [
        "mean_impute_col_mask = df.columns.isin(mean_impute_cols)\n",
        "mean_impute_col_mask"
      ]
    },
    {
      "cell_type": "code",
      "execution_count": null,
      "id": "ec2d2990",
      "metadata": {
        "id": "ec2d2990",
        "outputId": "a9374100-1b5e-441a-d526-699a8a28fda0",
        "colab": {
          "base_uri": "https://localhost:8080/"
        }
      },
      "outputs": [
        {
          "output_type": "execute_result",
          "data": {
            "text/plain": [
              "['SkinThickness', 'Insulin', 'BMI', 'DiabetesPedigreeFunction', 'Age']"
            ]
          },
          "metadata": {},
          "execution_count": 82
        }
      ],
      "source": [
        "# TODO: 31 Use the mean_impute_col_mask to select remaining columns from df.columns to be used with IdentityTransformer\n",
        "other_cols = df.columns[mean_impute_col_mask == False].to_list()\n",
        "other_cols"
      ]
    },
    {
      "cell_type": "code",
      "execution_count": null,
      "id": "10cb21af",
      "metadata": {
        "id": "10cb21af"
      },
      "outputs": [],
      "source": [
        "from sklearn.pipeline import Pipeline\n",
        "from sklearn.preprocessing import StandardScaler\n",
        "from sklearn.impute import IterativeImputer\n",
        "from sklearn.neighbors import KNeighborsClassifier\n",
        "from sklearn.experimental import enable_iterative_imputer\n",
        "\n",
        "# Create a column transformer with mean imputation and identity transformation\n",
        "preprocessor = ColumnTransformer(\n",
        "    transformers=[\n",
        "        ('mean_impute', SimpleImputer(strategy='mean'), mean_impute_cols),\n",
        "        ('identity', 'passthrough', other_cols)\n",
        "    ])\n",
        "\n",
        "# Finalize the pipeline with iterative imputation, standard scaler, and classifier\n",
        "pipeline = Pipeline(steps=[\n",
        "    ('preprocessor', preprocessor),\n",
        "    ('iterative_imputer', IterativeImputer(random_state=0)),\n",
        "    ('scaler', StandardScaler()),\n",
        "    ('classifier', KNeighborsClassifier(n_neighbors=5))\n",
        "])\n"
      ]
    },
    {
      "cell_type": "code",
      "execution_count": null,
      "id": "c41ed129",
      "metadata": {
        "id": "c41ed129",
        "outputId": "10dba40c-b29f-4c3e-d577-e0dfdebdd2cc",
        "colab": {
          "base_uri": "https://localhost:8080/",
          "height": 259
        }
      },
      "outputs": [
        {
          "output_type": "execute_result",
          "data": {
            "text/plain": [
              "Pipeline(steps=[('preprocessor',\n",
              "                 ColumnTransformer(transformers=[('mean_impute',\n",
              "                                                  SimpleImputer(),\n",
              "                                                  ['Pregnancies', 'Glucose',\n",
              "                                                   'BloodPressure']),\n",
              "                                                 ('identity', 'passthrough',\n",
              "                                                  ['SkinThickness', 'Insulin',\n",
              "                                                   'BMI',\n",
              "                                                   'DiabetesPedigreeFunction',\n",
              "                                                   'Age'])])),\n",
              "                ('iterative_imputer', IterativeImputer(random_state=0)),\n",
              "                ('scaler', StandardScaler()),\n",
              "                ('classifier', KNeighborsClassifier())])"
            ],
            "text/html": [
              "<style>#sk-container-id-3 {color: black;background-color: white;}#sk-container-id-3 pre{padding: 0;}#sk-container-id-3 div.sk-toggleable {background-color: white;}#sk-container-id-3 label.sk-toggleable__label {cursor: pointer;display: block;width: 100%;margin-bottom: 0;padding: 0.3em;box-sizing: border-box;text-align: center;}#sk-container-id-3 label.sk-toggleable__label-arrow:before {content: \"▸\";float: left;margin-right: 0.25em;color: #696969;}#sk-container-id-3 label.sk-toggleable__label-arrow:hover:before {color: black;}#sk-container-id-3 div.sk-estimator:hover label.sk-toggleable__label-arrow:before {color: black;}#sk-container-id-3 div.sk-toggleable__content {max-height: 0;max-width: 0;overflow: hidden;text-align: left;background-color: #f0f8ff;}#sk-container-id-3 div.sk-toggleable__content pre {margin: 0.2em;color: black;border-radius: 0.25em;background-color: #f0f8ff;}#sk-container-id-3 input.sk-toggleable__control:checked~div.sk-toggleable__content {max-height: 200px;max-width: 100%;overflow: auto;}#sk-container-id-3 input.sk-toggleable__control:checked~label.sk-toggleable__label-arrow:before {content: \"▾\";}#sk-container-id-3 div.sk-estimator input.sk-toggleable__control:checked~label.sk-toggleable__label {background-color: #d4ebff;}#sk-container-id-3 div.sk-label input.sk-toggleable__control:checked~label.sk-toggleable__label {background-color: #d4ebff;}#sk-container-id-3 input.sk-hidden--visually {border: 0;clip: rect(1px 1px 1px 1px);clip: rect(1px, 1px, 1px, 1px);height: 1px;margin: -1px;overflow: hidden;padding: 0;position: absolute;width: 1px;}#sk-container-id-3 div.sk-estimator {font-family: monospace;background-color: #f0f8ff;border: 1px dotted black;border-radius: 0.25em;box-sizing: border-box;margin-bottom: 0.5em;}#sk-container-id-3 div.sk-estimator:hover {background-color: #d4ebff;}#sk-container-id-3 div.sk-parallel-item::after {content: \"\";width: 100%;border-bottom: 1px solid gray;flex-grow: 1;}#sk-container-id-3 div.sk-label:hover label.sk-toggleable__label {background-color: #d4ebff;}#sk-container-id-3 div.sk-serial::before {content: \"\";position: absolute;border-left: 1px solid gray;box-sizing: border-box;top: 0;bottom: 0;left: 50%;z-index: 0;}#sk-container-id-3 div.sk-serial {display: flex;flex-direction: column;align-items: center;background-color: white;padding-right: 0.2em;padding-left: 0.2em;position: relative;}#sk-container-id-3 div.sk-item {position: relative;z-index: 1;}#sk-container-id-3 div.sk-parallel {display: flex;align-items: stretch;justify-content: center;background-color: white;position: relative;}#sk-container-id-3 div.sk-item::before, #sk-container-id-3 div.sk-parallel-item::before {content: \"\";position: absolute;border-left: 1px solid gray;box-sizing: border-box;top: 0;bottom: 0;left: 50%;z-index: -1;}#sk-container-id-3 div.sk-parallel-item {display: flex;flex-direction: column;z-index: 1;position: relative;background-color: white;}#sk-container-id-3 div.sk-parallel-item:first-child::after {align-self: flex-end;width: 50%;}#sk-container-id-3 div.sk-parallel-item:last-child::after {align-self: flex-start;width: 50%;}#sk-container-id-3 div.sk-parallel-item:only-child::after {width: 0;}#sk-container-id-3 div.sk-dashed-wrapped {border: 1px dashed gray;margin: 0 0.4em 0.5em 0.4em;box-sizing: border-box;padding-bottom: 0.4em;background-color: white;}#sk-container-id-3 div.sk-label label {font-family: monospace;font-weight: bold;display: inline-block;line-height: 1.2em;}#sk-container-id-3 div.sk-label-container {text-align: center;}#sk-container-id-3 div.sk-container {/* jupyter's `normalize.less` sets `[hidden] { display: none; }` but bootstrap.min.css set `[hidden] { display: none !important; }` so we also need the `!important` here to be able to override the default hidden behavior on the sphinx rendered scikit-learn.org. See: https://github.com/scikit-learn/scikit-learn/issues/21755 */display: inline-block !important;position: relative;}#sk-container-id-3 div.sk-text-repr-fallback {display: none;}</style><div id=\"sk-container-id-3\" class=\"sk-top-container\"><div class=\"sk-text-repr-fallback\"><pre>Pipeline(steps=[(&#x27;preprocessor&#x27;,\n",
              "                 ColumnTransformer(transformers=[(&#x27;mean_impute&#x27;,\n",
              "                                                  SimpleImputer(),\n",
              "                                                  [&#x27;Pregnancies&#x27;, &#x27;Glucose&#x27;,\n",
              "                                                   &#x27;BloodPressure&#x27;]),\n",
              "                                                 (&#x27;identity&#x27;, &#x27;passthrough&#x27;,\n",
              "                                                  [&#x27;SkinThickness&#x27;, &#x27;Insulin&#x27;,\n",
              "                                                   &#x27;BMI&#x27;,\n",
              "                                                   &#x27;DiabetesPedigreeFunction&#x27;,\n",
              "                                                   &#x27;Age&#x27;])])),\n",
              "                (&#x27;iterative_imputer&#x27;, IterativeImputer(random_state=0)),\n",
              "                (&#x27;scaler&#x27;, StandardScaler()),\n",
              "                (&#x27;classifier&#x27;, KNeighborsClassifier())])</pre><b>In a Jupyter environment, please rerun this cell to show the HTML representation or trust the notebook. <br />On GitHub, the HTML representation is unable to render, please try loading this page with nbviewer.org.</b></div><div class=\"sk-container\" hidden><div class=\"sk-item sk-dashed-wrapped\"><div class=\"sk-label-container\"><div class=\"sk-label sk-toggleable\"><input class=\"sk-toggleable__control sk-hidden--visually\" id=\"sk-estimator-id-13\" type=\"checkbox\" ><label for=\"sk-estimator-id-13\" class=\"sk-toggleable__label sk-toggleable__label-arrow\">Pipeline</label><div class=\"sk-toggleable__content\"><pre>Pipeline(steps=[(&#x27;preprocessor&#x27;,\n",
              "                 ColumnTransformer(transformers=[(&#x27;mean_impute&#x27;,\n",
              "                                                  SimpleImputer(),\n",
              "                                                  [&#x27;Pregnancies&#x27;, &#x27;Glucose&#x27;,\n",
              "                                                   &#x27;BloodPressure&#x27;]),\n",
              "                                                 (&#x27;identity&#x27;, &#x27;passthrough&#x27;,\n",
              "                                                  [&#x27;SkinThickness&#x27;, &#x27;Insulin&#x27;,\n",
              "                                                   &#x27;BMI&#x27;,\n",
              "                                                   &#x27;DiabetesPedigreeFunction&#x27;,\n",
              "                                                   &#x27;Age&#x27;])])),\n",
              "                (&#x27;iterative_imputer&#x27;, IterativeImputer(random_state=0)),\n",
              "                (&#x27;scaler&#x27;, StandardScaler()),\n",
              "                (&#x27;classifier&#x27;, KNeighborsClassifier())])</pre></div></div></div><div class=\"sk-serial\"><div class=\"sk-item sk-dashed-wrapped\"><div class=\"sk-label-container\"><div class=\"sk-label sk-toggleable\"><input class=\"sk-toggleable__control sk-hidden--visually\" id=\"sk-estimator-id-14\" type=\"checkbox\" ><label for=\"sk-estimator-id-14\" class=\"sk-toggleable__label sk-toggleable__label-arrow\">preprocessor: ColumnTransformer</label><div class=\"sk-toggleable__content\"><pre>ColumnTransformer(transformers=[(&#x27;mean_impute&#x27;, SimpleImputer(),\n",
              "                                 [&#x27;Pregnancies&#x27;, &#x27;Glucose&#x27;, &#x27;BloodPressure&#x27;]),\n",
              "                                (&#x27;identity&#x27;, &#x27;passthrough&#x27;,\n",
              "                                 [&#x27;SkinThickness&#x27;, &#x27;Insulin&#x27;, &#x27;BMI&#x27;,\n",
              "                                  &#x27;DiabetesPedigreeFunction&#x27;, &#x27;Age&#x27;])])</pre></div></div></div><div class=\"sk-parallel\"><div class=\"sk-parallel-item\"><div class=\"sk-item\"><div class=\"sk-label-container\"><div class=\"sk-label sk-toggleable\"><input class=\"sk-toggleable__control sk-hidden--visually\" id=\"sk-estimator-id-15\" type=\"checkbox\" ><label for=\"sk-estimator-id-15\" class=\"sk-toggleable__label sk-toggleable__label-arrow\">mean_impute</label><div class=\"sk-toggleable__content\"><pre>[&#x27;Pregnancies&#x27;, &#x27;Glucose&#x27;, &#x27;BloodPressure&#x27;]</pre></div></div></div><div class=\"sk-serial\"><div class=\"sk-item\"><div class=\"sk-estimator sk-toggleable\"><input class=\"sk-toggleable__control sk-hidden--visually\" id=\"sk-estimator-id-16\" type=\"checkbox\" ><label for=\"sk-estimator-id-16\" class=\"sk-toggleable__label sk-toggleable__label-arrow\">SimpleImputer</label><div class=\"sk-toggleable__content\"><pre>SimpleImputer()</pre></div></div></div></div></div></div><div class=\"sk-parallel-item\"><div class=\"sk-item\"><div class=\"sk-label-container\"><div class=\"sk-label sk-toggleable\"><input class=\"sk-toggleable__control sk-hidden--visually\" id=\"sk-estimator-id-17\" type=\"checkbox\" ><label for=\"sk-estimator-id-17\" class=\"sk-toggleable__label sk-toggleable__label-arrow\">identity</label><div class=\"sk-toggleable__content\"><pre>[&#x27;SkinThickness&#x27;, &#x27;Insulin&#x27;, &#x27;BMI&#x27;, &#x27;DiabetesPedigreeFunction&#x27;, &#x27;Age&#x27;]</pre></div></div></div><div class=\"sk-serial\"><div class=\"sk-item\"><div class=\"sk-estimator sk-toggleable\"><input class=\"sk-toggleable__control sk-hidden--visually\" id=\"sk-estimator-id-18\" type=\"checkbox\" ><label for=\"sk-estimator-id-18\" class=\"sk-toggleable__label sk-toggleable__label-arrow\">passthrough</label><div class=\"sk-toggleable__content\"><pre>passthrough</pre></div></div></div></div></div></div></div></div><div class=\"sk-item\"><div class=\"sk-estimator sk-toggleable\"><input class=\"sk-toggleable__control sk-hidden--visually\" id=\"sk-estimator-id-19\" type=\"checkbox\" ><label for=\"sk-estimator-id-19\" class=\"sk-toggleable__label sk-toggleable__label-arrow\">IterativeImputer</label><div class=\"sk-toggleable__content\"><pre>IterativeImputer(random_state=0)</pre></div></div></div><div class=\"sk-item\"><div class=\"sk-estimator sk-toggleable\"><input class=\"sk-toggleable__control sk-hidden--visually\" id=\"sk-estimator-id-20\" type=\"checkbox\" ><label for=\"sk-estimator-id-20\" class=\"sk-toggleable__label sk-toggleable__label-arrow\">StandardScaler</label><div class=\"sk-toggleable__content\"><pre>StandardScaler()</pre></div></div></div><div class=\"sk-item\"><div class=\"sk-estimator sk-toggleable\"><input class=\"sk-toggleable__control sk-hidden--visually\" id=\"sk-estimator-id-21\" type=\"checkbox\" ><label for=\"sk-estimator-id-21\" class=\"sk-toggleable__label sk-toggleable__label-arrow\">KNeighborsClassifier</label><div class=\"sk-toggleable__content\"><pre>KNeighborsClassifier()</pre></div></div></div></div></div></div></div>"
            ]
          },
          "metadata": {},
          "execution_count": 89
        }
      ],
      "source": [
        "# TODO: 33 Run this cell to verify if indeed your pipeline looks like what was expected\n",
        "\n",
        "from sklearn import set_config\n",
        "set_config(display='diagram')\n",
        "pipeline  # Put your pipeline variable name here to display pipeline as diagram"
      ]
    },
    {
      "cell_type": "code",
      "execution_count": null,
      "id": "8742fe51",
      "metadata": {
        "id": "8742fe51",
        "outputId": "4052d768-84cd-4691-b410-8f7e01782f40",
        "colab": {
          "base_uri": "https://localhost:8080/",
          "height": 259
        }
      },
      "outputs": [
        {
          "output_type": "execute_result",
          "data": {
            "text/plain": [
              "Pipeline(steps=[('preprocessor',\n",
              "                 ColumnTransformer(transformers=[('mean_impute',\n",
              "                                                  SimpleImputer(),\n",
              "                                                  ['Pregnancies', 'Glucose',\n",
              "                                                   'BloodPressure']),\n",
              "                                                 ('identity', 'passthrough',\n",
              "                                                  ['SkinThickness', 'Insulin',\n",
              "                                                   'BMI',\n",
              "                                                   'DiabetesPedigreeFunction',\n",
              "                                                   'Age'])])),\n",
              "                ('iterative_imputer', IterativeImputer(random_state=0)),\n",
              "                ('scaler', StandardScaler()),\n",
              "                ('classifier', KNeighborsClassifier())])"
            ],
            "text/html": [
              "<style>#sk-container-id-4 {color: black;background-color: white;}#sk-container-id-4 pre{padding: 0;}#sk-container-id-4 div.sk-toggleable {background-color: white;}#sk-container-id-4 label.sk-toggleable__label {cursor: pointer;display: block;width: 100%;margin-bottom: 0;padding: 0.3em;box-sizing: border-box;text-align: center;}#sk-container-id-4 label.sk-toggleable__label-arrow:before {content: \"▸\";float: left;margin-right: 0.25em;color: #696969;}#sk-container-id-4 label.sk-toggleable__label-arrow:hover:before {color: black;}#sk-container-id-4 div.sk-estimator:hover label.sk-toggleable__label-arrow:before {color: black;}#sk-container-id-4 div.sk-toggleable__content {max-height: 0;max-width: 0;overflow: hidden;text-align: left;background-color: #f0f8ff;}#sk-container-id-4 div.sk-toggleable__content pre {margin: 0.2em;color: black;border-radius: 0.25em;background-color: #f0f8ff;}#sk-container-id-4 input.sk-toggleable__control:checked~div.sk-toggleable__content {max-height: 200px;max-width: 100%;overflow: auto;}#sk-container-id-4 input.sk-toggleable__control:checked~label.sk-toggleable__label-arrow:before {content: \"▾\";}#sk-container-id-4 div.sk-estimator input.sk-toggleable__control:checked~label.sk-toggleable__label {background-color: #d4ebff;}#sk-container-id-4 div.sk-label input.sk-toggleable__control:checked~label.sk-toggleable__label {background-color: #d4ebff;}#sk-container-id-4 input.sk-hidden--visually {border: 0;clip: rect(1px 1px 1px 1px);clip: rect(1px, 1px, 1px, 1px);height: 1px;margin: -1px;overflow: hidden;padding: 0;position: absolute;width: 1px;}#sk-container-id-4 div.sk-estimator {font-family: monospace;background-color: #f0f8ff;border: 1px dotted black;border-radius: 0.25em;box-sizing: border-box;margin-bottom: 0.5em;}#sk-container-id-4 div.sk-estimator:hover {background-color: #d4ebff;}#sk-container-id-4 div.sk-parallel-item::after {content: \"\";width: 100%;border-bottom: 1px solid gray;flex-grow: 1;}#sk-container-id-4 div.sk-label:hover label.sk-toggleable__label {background-color: #d4ebff;}#sk-container-id-4 div.sk-serial::before {content: \"\";position: absolute;border-left: 1px solid gray;box-sizing: border-box;top: 0;bottom: 0;left: 50%;z-index: 0;}#sk-container-id-4 div.sk-serial {display: flex;flex-direction: column;align-items: center;background-color: white;padding-right: 0.2em;padding-left: 0.2em;position: relative;}#sk-container-id-4 div.sk-item {position: relative;z-index: 1;}#sk-container-id-4 div.sk-parallel {display: flex;align-items: stretch;justify-content: center;background-color: white;position: relative;}#sk-container-id-4 div.sk-item::before, #sk-container-id-4 div.sk-parallel-item::before {content: \"\";position: absolute;border-left: 1px solid gray;box-sizing: border-box;top: 0;bottom: 0;left: 50%;z-index: -1;}#sk-container-id-4 div.sk-parallel-item {display: flex;flex-direction: column;z-index: 1;position: relative;background-color: white;}#sk-container-id-4 div.sk-parallel-item:first-child::after {align-self: flex-end;width: 50%;}#sk-container-id-4 div.sk-parallel-item:last-child::after {align-self: flex-start;width: 50%;}#sk-container-id-4 div.sk-parallel-item:only-child::after {width: 0;}#sk-container-id-4 div.sk-dashed-wrapped {border: 1px dashed gray;margin: 0 0.4em 0.5em 0.4em;box-sizing: border-box;padding-bottom: 0.4em;background-color: white;}#sk-container-id-4 div.sk-label label {font-family: monospace;font-weight: bold;display: inline-block;line-height: 1.2em;}#sk-container-id-4 div.sk-label-container {text-align: center;}#sk-container-id-4 div.sk-container {/* jupyter's `normalize.less` sets `[hidden] { display: none; }` but bootstrap.min.css set `[hidden] { display: none !important; }` so we also need the `!important` here to be able to override the default hidden behavior on the sphinx rendered scikit-learn.org. See: https://github.com/scikit-learn/scikit-learn/issues/21755 */display: inline-block !important;position: relative;}#sk-container-id-4 div.sk-text-repr-fallback {display: none;}</style><div id=\"sk-container-id-4\" class=\"sk-top-container\"><div class=\"sk-text-repr-fallback\"><pre>Pipeline(steps=[(&#x27;preprocessor&#x27;,\n",
              "                 ColumnTransformer(transformers=[(&#x27;mean_impute&#x27;,\n",
              "                                                  SimpleImputer(),\n",
              "                                                  [&#x27;Pregnancies&#x27;, &#x27;Glucose&#x27;,\n",
              "                                                   &#x27;BloodPressure&#x27;]),\n",
              "                                                 (&#x27;identity&#x27;, &#x27;passthrough&#x27;,\n",
              "                                                  [&#x27;SkinThickness&#x27;, &#x27;Insulin&#x27;,\n",
              "                                                   &#x27;BMI&#x27;,\n",
              "                                                   &#x27;DiabetesPedigreeFunction&#x27;,\n",
              "                                                   &#x27;Age&#x27;])])),\n",
              "                (&#x27;iterative_imputer&#x27;, IterativeImputer(random_state=0)),\n",
              "                (&#x27;scaler&#x27;, StandardScaler()),\n",
              "                (&#x27;classifier&#x27;, KNeighborsClassifier())])</pre><b>In a Jupyter environment, please rerun this cell to show the HTML representation or trust the notebook. <br />On GitHub, the HTML representation is unable to render, please try loading this page with nbviewer.org.</b></div><div class=\"sk-container\" hidden><div class=\"sk-item sk-dashed-wrapped\"><div class=\"sk-label-container\"><div class=\"sk-label sk-toggleable\"><input class=\"sk-toggleable__control sk-hidden--visually\" id=\"sk-estimator-id-22\" type=\"checkbox\" ><label for=\"sk-estimator-id-22\" class=\"sk-toggleable__label sk-toggleable__label-arrow\">Pipeline</label><div class=\"sk-toggleable__content\"><pre>Pipeline(steps=[(&#x27;preprocessor&#x27;,\n",
              "                 ColumnTransformer(transformers=[(&#x27;mean_impute&#x27;,\n",
              "                                                  SimpleImputer(),\n",
              "                                                  [&#x27;Pregnancies&#x27;, &#x27;Glucose&#x27;,\n",
              "                                                   &#x27;BloodPressure&#x27;]),\n",
              "                                                 (&#x27;identity&#x27;, &#x27;passthrough&#x27;,\n",
              "                                                  [&#x27;SkinThickness&#x27;, &#x27;Insulin&#x27;,\n",
              "                                                   &#x27;BMI&#x27;,\n",
              "                                                   &#x27;DiabetesPedigreeFunction&#x27;,\n",
              "                                                   &#x27;Age&#x27;])])),\n",
              "                (&#x27;iterative_imputer&#x27;, IterativeImputer(random_state=0)),\n",
              "                (&#x27;scaler&#x27;, StandardScaler()),\n",
              "                (&#x27;classifier&#x27;, KNeighborsClassifier())])</pre></div></div></div><div class=\"sk-serial\"><div class=\"sk-item sk-dashed-wrapped\"><div class=\"sk-label-container\"><div class=\"sk-label sk-toggleable\"><input class=\"sk-toggleable__control sk-hidden--visually\" id=\"sk-estimator-id-23\" type=\"checkbox\" ><label for=\"sk-estimator-id-23\" class=\"sk-toggleable__label sk-toggleable__label-arrow\">preprocessor: ColumnTransformer</label><div class=\"sk-toggleable__content\"><pre>ColumnTransformer(transformers=[(&#x27;mean_impute&#x27;, SimpleImputer(),\n",
              "                                 [&#x27;Pregnancies&#x27;, &#x27;Glucose&#x27;, &#x27;BloodPressure&#x27;]),\n",
              "                                (&#x27;identity&#x27;, &#x27;passthrough&#x27;,\n",
              "                                 [&#x27;SkinThickness&#x27;, &#x27;Insulin&#x27;, &#x27;BMI&#x27;,\n",
              "                                  &#x27;DiabetesPedigreeFunction&#x27;, &#x27;Age&#x27;])])</pre></div></div></div><div class=\"sk-parallel\"><div class=\"sk-parallel-item\"><div class=\"sk-item\"><div class=\"sk-label-container\"><div class=\"sk-label sk-toggleable\"><input class=\"sk-toggleable__control sk-hidden--visually\" id=\"sk-estimator-id-24\" type=\"checkbox\" ><label for=\"sk-estimator-id-24\" class=\"sk-toggleable__label sk-toggleable__label-arrow\">mean_impute</label><div class=\"sk-toggleable__content\"><pre>[&#x27;Pregnancies&#x27;, &#x27;Glucose&#x27;, &#x27;BloodPressure&#x27;]</pre></div></div></div><div class=\"sk-serial\"><div class=\"sk-item\"><div class=\"sk-estimator sk-toggleable\"><input class=\"sk-toggleable__control sk-hidden--visually\" id=\"sk-estimator-id-25\" type=\"checkbox\" ><label for=\"sk-estimator-id-25\" class=\"sk-toggleable__label sk-toggleable__label-arrow\">SimpleImputer</label><div class=\"sk-toggleable__content\"><pre>SimpleImputer()</pre></div></div></div></div></div></div><div class=\"sk-parallel-item\"><div class=\"sk-item\"><div class=\"sk-label-container\"><div class=\"sk-label sk-toggleable\"><input class=\"sk-toggleable__control sk-hidden--visually\" id=\"sk-estimator-id-26\" type=\"checkbox\" ><label for=\"sk-estimator-id-26\" class=\"sk-toggleable__label sk-toggleable__label-arrow\">identity</label><div class=\"sk-toggleable__content\"><pre>[&#x27;SkinThickness&#x27;, &#x27;Insulin&#x27;, &#x27;BMI&#x27;, &#x27;DiabetesPedigreeFunction&#x27;, &#x27;Age&#x27;]</pre></div></div></div><div class=\"sk-serial\"><div class=\"sk-item\"><div class=\"sk-estimator sk-toggleable\"><input class=\"sk-toggleable__control sk-hidden--visually\" id=\"sk-estimator-id-27\" type=\"checkbox\" ><label for=\"sk-estimator-id-27\" class=\"sk-toggleable__label sk-toggleable__label-arrow\">passthrough</label><div class=\"sk-toggleable__content\"><pre>passthrough</pre></div></div></div></div></div></div></div></div><div class=\"sk-item\"><div class=\"sk-estimator sk-toggleable\"><input class=\"sk-toggleable__control sk-hidden--visually\" id=\"sk-estimator-id-28\" type=\"checkbox\" ><label for=\"sk-estimator-id-28\" class=\"sk-toggleable__label sk-toggleable__label-arrow\">IterativeImputer</label><div class=\"sk-toggleable__content\"><pre>IterativeImputer(random_state=0)</pre></div></div></div><div class=\"sk-item\"><div class=\"sk-estimator sk-toggleable\"><input class=\"sk-toggleable__control sk-hidden--visually\" id=\"sk-estimator-id-29\" type=\"checkbox\" ><label for=\"sk-estimator-id-29\" class=\"sk-toggleable__label sk-toggleable__label-arrow\">StandardScaler</label><div class=\"sk-toggleable__content\"><pre>StandardScaler()</pre></div></div></div><div class=\"sk-item\"><div class=\"sk-estimator sk-toggleable\"><input class=\"sk-toggleable__control sk-hidden--visually\" id=\"sk-estimator-id-30\" type=\"checkbox\" ><label for=\"sk-estimator-id-30\" class=\"sk-toggleable__label sk-toggleable__label-arrow\">KNeighborsClassifier</label><div class=\"sk-toggleable__content\"><pre>KNeighborsClassifier()</pre></div></div></div></div></div></div></div>"
            ]
          },
          "metadata": {},
          "execution_count": 91
        }
      ],
      "source": [
        "# TODO: 34 Train pipeline with data\n",
        "# Import the necessary libraries\n",
        "from sklearn.pipeline import Pipeline\n",
        "\n",
        "# Fit the pipeline on your training data\n",
        "pipeline.fit(X_train, y_train)\n"
      ]
    },
    {
      "cell_type": "code",
      "execution_count": null,
      "id": "cc3033d3",
      "metadata": {
        "id": "cc3033d3",
        "outputId": "74abb0e4-6fb0-4156-fca8-6458ae4251ed",
        "colab": {
          "base_uri": "https://localhost:8080/"
        }
      },
      "outputs": [
        {
          "output_type": "stream",
          "name": "stdout",
          "text": [
            "Accuracy: 0.7903225806451613\n"
          ]
        }
      ],
      "source": [
        "# TODO: 35 Do predictions with pipeline and calculate the accuracy score\n",
        "# Import the necessary libraries\n",
        "from sklearn.metrics import accuracy_score\n",
        "\n",
        "# Use the fitted pipeline to make predictions on the test data\n",
        "y_pred = pipeline.predict(X_test)\n",
        "\n",
        "# Calculate the accuracy score\n",
        "accuracy = accuracy_score(y_test, y_pred)\n",
        "\n",
        "# Print the accuracy score\n",
        "print(f\"Accuracy: {accuracy}\")\n"
      ]
    },
    {
      "cell_type": "markdown",
      "id": "67f0a19b",
      "metadata": {
        "id": "67f0a19b"
      },
      "source": [
        "# Part 3: Combine pipeline & gridsearch for hyperparam tuning"
      ]
    },
    {
      "cell_type": "code",
      "execution_count": null,
      "id": "1a526416",
      "metadata": {
        "id": "1a526416"
      },
      "outputs": [],
      "source": [
        "# TODO: 36. Use GridSearchCV with KFold = 3 for CV and train a model using the pipeline developed earlier\n",
        "from sklearn.model_selection import GridSearchCV, KFold\n",
        "# Create KFold here\n",
        "kf = KFold(n_splits=3, shuffle=True, random_state=0)\n",
        "# Define hyperparameters\n",
        "grid_params = {'classifier__n_neighbors': [2,3,4,5,6],\n",
        "                'classifier__weights': ['uniform','distance'],\n",
        "                'classifier__metric': ['euclidean', 'manhattan']}\n",
        "\n",
        "#Create Grid SearchCV object here using KFold object and gridparams\n",
        "grid = GridSearchCV(estimator=pipeline, param_grid=grid_params, cv=kf, scoring='accuracy', n_jobs=-1)\n",
        "\n",
        "#Do hyperparameter tuning here with GridSearchCV object\n",
        "fitted_model =grid.fit(X_train, y_train)"
      ]
    },
    {
      "cell_type": "code",
      "execution_count": null,
      "id": "f0398f53",
      "metadata": {
        "id": "f0398f53",
        "outputId": "27d2fba2-fed2-46d6-cac4-2ea2419d5e55",
        "colab": {
          "base_uri": "https://localhost:8080/"
        }
      },
      "outputs": [
        {
          "output_type": "stream",
          "name": "stdout",
          "text": [
            "0.7275985663082437\n",
            "Pipeline(steps=[('preprocessor',\n",
            "                 ColumnTransformer(transformers=[('mean_impute',\n",
            "                                                  SimpleImputer(),\n",
            "                                                  ['Pregnancies', 'Glucose',\n",
            "                                                   'BloodPressure']),\n",
            "                                                 ('identity', 'passthrough',\n",
            "                                                  ['SkinThickness', 'Insulin',\n",
            "                                                   'BMI',\n",
            "                                                   'DiabetesPedigreeFunction',\n",
            "                                                   'Age'])])),\n",
            "                ('iterative_imputer', IterativeImputer(random_state=0)),\n",
            "                ('scaler', StandardScaler()),\n",
            "                ('classifier',\n",
            "                 KNeighborsClassifier(metric='manhattan', n_neighbors=6,\n",
            "                                      weights='distance'))])\n",
            "{'classifier__metric': 'manhattan', 'classifier__n_neighbors': 6, 'classifier__weights': 'distance'}\n"
          ]
        }
      ],
      "source": [
        "# TODO: 37 Display the results for best score, best estimator and best params selected by Cross validation\n",
        "# fitted_model is the result of hyperpaarameter tuning in the previous cell\n",
        "print(fitted_model.best_score_)\n",
        "print(fitted_model.best_estimator_)\n",
        "print(fitted_model.best_params_)"
      ]
    },
    {
      "cell_type": "code",
      "execution_count": null,
      "id": "ff5dded8",
      "metadata": {
        "id": "ff5dded8",
        "outputId": "f1e3b952-e33e-4fd4-f4f5-c929852bfd0f",
        "colab": {
          "base_uri": "https://localhost:8080/"
        }
      },
      "outputs": [
        {
          "output_type": "stream",
          "name": "stdout",
          "text": [
            "Accuracy: 0.7526881720430108\n"
          ]
        }
      ],
      "source": [
        "# TODO: 38 Do predictions with gridsearch and calculate the accuracy score\n",
        "# Use the best model for predictions\n",
        "y_pred = fitted_model.best_estimator_.predict(X_test)\n",
        "\n",
        "from sklearn.metrics import accuracy_score\n",
        "\n",
        "# Calculate accuracy score\n",
        "accuracy = accuracy_score(y_test, y_pred)\n",
        "\n",
        "# Print the accuracy\n",
        "print(\"Accuracy:\", accuracy)\n"
      ]
    },
    {
      "cell_type": "markdown",
      "id": "e70e9814",
      "metadata": {
        "id": "e70e9814"
      },
      "source": [
        "##### Confusion matrix calculation\n",
        "\n",
        "The next 3 cells are meant for providing hints to calculating the confusion matrix"
      ]
    },
    {
      "cell_type": "code",
      "execution_count": null,
      "id": "ba7e59e9",
      "metadata": {
        "id": "ba7e59e9"
      },
      "outputs": [],
      "source": [
        "# TODO: 39 Put your pipeline name in place of question mark\n",
        "<pipeline_var_name>.named_steps"
      ]
    },
    {
      "cell_type": "code",
      "execution_count": null,
      "id": "604e19fb",
      "metadata": {
        "id": "604e19fb"
      },
      "outputs": [],
      "source": [
        "# TODO: 40 Put your pipeline name in place of first question mark\n",
        "# and appropriate value for second question mark to display the model\n",
        "<pipeline_var_name>.named_steps[put name of your knn model in the pipeline here]"
      ]
    },
    {
      "cell_type": "code",
      "execution_count": null,
      "id": "1c7dac0c",
      "metadata": {
        "id": "1c7dac0c"
      },
      "outputs": [],
      "source": [
        "# TODO: 41 Put your pipeline name in place of first question mark\n",
        "# and appropriate value for second question mark to display the model\n",
        "vars(<pipeline_var_name>.named_steps[put name of your knn model in the pipeline here])"
      ]
    },
    {
      "cell_type": "code",
      "execution_count": null,
      "id": "5e8fbb9f",
      "metadata": {
        "id": "5e8fbb9f"
      },
      "outputs": [],
      "source": [
        "# TODO: 42 Write code to display a confusion matrix by filling the question marks\n",
        "\n",
        "\n",
        "cm = confusion_matrix(y_test, y_pred, labels=?)\n",
        "disp = ConfusionMatrixDisplay(confusion_matrix=cm, display_labels=?)\n",
        "disp.plot()\n",
        "plt.show()"
      ]
    },
    {
      "cell_type": "code",
      "execution_count": null,
      "id": "5a752f68",
      "metadata": {
        "id": "5a752f68"
      },
      "outputs": [],
      "source": [
        "# TODO: 43 Interpret the confusion matrix in your own words\n",
        "#\n"
      ]
    },
    {
      "cell_type": "markdown",
      "id": "dd219375",
      "metadata": {
        "id": "dd219375"
      },
      "source": [
        "# Part 4: Save the model as json file, load & use it to do prediction\n",
        "\n",
        "This is optional and will be used to accumulate bonus points as a buffer for the semester lab exam if there is any shortfall"
      ]
    },
    {
      "cell_type": "code",
      "execution_count": null,
      "id": "2c00e9e1",
      "metadata": {
        "id": "2c00e9e1"
      },
      "outputs": [],
      "source": []
    },
    {
      "cell_type": "code",
      "execution_count": null,
      "id": "491196a1",
      "metadata": {
        "id": "491196a1"
      },
      "outputs": [],
      "source": []
    }
  ],
  "metadata": {
    "kernelspec": {
      "display_name": "Python 3 (ipykernel)",
      "language": "python",
      "name": "python3"
    },
    "language_info": {
      "codemirror_mode": {
        "name": "ipython",
        "version": 3
      },
      "file_extension": ".py",
      "mimetype": "text/x-python",
      "name": "python",
      "nbconvert_exporter": "python",
      "pygments_lexer": "ipython3",
      "version": "3.9.17"
    },
    "colab": {
      "provenance": []
    }
  },
  "nbformat": 4,
  "nbformat_minor": 5
}